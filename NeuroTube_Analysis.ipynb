{
 "cells": [
  {
   "cell_type": "markdown",
   "id": "af44f0ff",
   "metadata": {},
   "source": [
    "# NeuroTube Nexus — Power BI / Analysis Notebook\n",
    "\n",
 
   ]
  },
  {
   "cell_type": "markdown",
   "id": "40c0c967",
   "metadata": {},
   "source": [
    "## Assignment ",
    "\n",
    "Organisation NeuroTube Nexus\n",
    "\n",
    "NeuroTube Nexus, a pioneering media and content-tech company headquartered in StreamVerse City, has \n",
    "emerged as a trailblazer in the digital entertainment space. Operating at the intersection of creativity and \n",
    "advanced technology, the company manages a portfolio of next-gen YouTube channels delivering immersive \n",
    "content experiences to a global audience.\n",
    "\n",
    "Their expansive data system captured deep insights across multiple dimensions, tracking attributes such as \n",
    "Channel Name, Youtuber Name, Total Videos, Best Video, Avg Video Length, Total Subscribers, Members \n",
    "Count, and innovative metrics like AI Generated Content (%), Neural Interface Compatibility, Metaverse \n",
    "Integration Level, Quantum Computing Topics, Holographic Content Rating, Engagement Score, and Content \n",
    "Value Index.\n",
    "\n",
    "This futuristic dataset provided a multidimensional view of how creators, content formats, and technologies \n",
    "influence audience engagement and channel success. However, amidst rapid digital evolution, NeuroTube \n",
    "Nexus stood at a critical juncture—eager to optimize content strategies, expand reach, and embrace \n",
    "innovation-driven storytelling.\n",
    "\n",
    "As the organization dived deeper into its data universe, strategic questions arose\n",
    "\n",
    " Which content creators are leading in engagement and value delivery\n",
    "\n",
    " How does the integration of AI, metaverse features, or neural interfaces influence subscriber growth or \n",
    "content performance\n",
    "\n",
    " Does the length of videos correlate with higher engagement or value index\n",
    "\n",
    " Are there patterns within content technology usage (e.g., quantum topics, holography) that drive superior \n",
    "performance metrics\n",
    "\n",
    " Which channels strike the best balance between innovation and audience retention?\n",
    "\n",
    "To uncover the hidden patterns and power data-driven decisions, NeuroTube Nexus brought you on board as a \n",
    "Data Analyst.\n",
    " Your challenge: Develop a comprehensive Power BI dashboard that transforms this futuristic dataset into a \n",
    "strategic visual story—one that helps the company elevate channel performance, optimize creator \n",
    "collaborations, and lead the way in next-gen content delivery\n",
    "\n",
    " Data Set Link - Youtube Dataset\n",
    "\n",
    "Organisation NeuroTube Nexus\n"
   ]
  },
  {
   "cell_type": "markdown",
   "id": "218f6a8b",
   "metadata": {},
   "source": [
    "## 1) Load dataset and quick preview"
   ]
  },
  {
   "cell_type": "code",
   "execution_count": null,
   "id": "ca95f354",
   "metadata": {},
   "outputs": [],
   "source": [
    "import pandas as pd\n",
    "csv_path = r'/mnt/data/youtube_2025_dataset_202504061614.csv'\n",
    "df = pd.read_csv(csv_path)\n",
    "df.shape\n",
    "\n",
    "df.head(10)"
   ]
  },
  {
   "cell_type": "markdown",
   "id": "8c04ec74",
   "metadata": {},
   "source": [
    "## 2) Data cleaning steps\n",
    "- Strip whitespace from text columns\n",
    "- Ensure types are correct\n",
    "- Save cleaned dataset to Excel (`Cleaned_Youtube_Data.xlsx`)"
   ]
  },
  {
   "cell_type": "code",
   "execution_count": null,
   "id": "21581c07",
   "metadata": {},
   "outputs": [],
   "source": [
    "df_clean = pd.read_csv(r'/mnt/data/youtube_2025_dataset_202504061614.csv')\n",
    "for c in df_clean.select_dtypes(include='object').columns:\n",
    "    df_clean[c] = df_clean[c].astype(str).str.strip()\n",
    "# Example type conversions (if needed)\n",
    "# df_clean['AI Generated Content (%)'] = pd.to_numeric(df_clean['AI Generated Content (%)'], errors='coerce')\n",
    "\n",
    "# Save cleaned file\n",
    "cleaned_path = r'/mnt/data/youtube_analysis_outputs/Cleaned_Youtube_Data.xlsx'\n",
    "df_clean.to_excel(cleaned_path, index=False)\n",
    "df_clean.info()\n",
    "df_clean.head(5)"
   ]
  },
  {
   "cell_type": "markdown",
   "id": "8a8cb8ab",
   "metadata": {},
   "source": [
    "## 3) Which content creators are leading in engagement and value delivery?\n",
    "We'll compute top creators by `Engagement Score` and `Content Value Index`."
   ]
  },
  {
   "cell_type": "code",
   "execution_count": null,
   "id": "3e02ec24",
   "metadata": {},
   "outputs": [],
   "source": [
    "top_engagement = df_clean.sort_values('Engagement Score', ascending=False).head(20)\n",
    "top_value = df_clean.sort_values('Content Value Index', ascending=False).head(20)\n",
    "print('Top 5 by Engagement Score:')\n",
    "top_engagement[['Channel Name','Youtuber Name','Engagement Score','Content Value Index']].head(5)\n",
    "\n",
    "print('\\nTop 5 by Content Value Index:')\n",
    "top_value[['Channel Name','Youtuber Name','Content Value Index','Engagement Score']].head(5)"
   ]
  },
  {
   "cell_type": "markdown",
   "id": "34a9fe7b",
   "metadata": {},
   "source": [
    "### Visualization: Top 10 channels by Engagement Score"
   ]
  },
  {
   "cell_type": "code",
   "execution_count": null,
   "id": "548f98e2",
   "metadata": {},
   "outputs": [],
   "source": [
    "import matplotlib.pyplot as plt\n",
    "plt.figure(figsize=(10,6))\n",
    "bar = top_engagement.head(10).set_index('Channel Name')['Engagement Score']\n",
    "bar.plot(kind='bar')\n",
    "plt.title('Top 10 Channels by Engagement Score')\n",
    "plt.ylabel('Engagement Score')\n",
    "plt.tight_layout()\n",
    "plt.savefig(r'/mnt/data/youtube_analysis_outputs/top10_engagement.png')\n",
    "plt.show()"
   ]
  },
  {
   "cell_type": "markdown",
   "id": "4a81bf01",
   "metadata": {},
   "source": [
    "## 4) How does AI, Metaverse, or Neural Interface integration influence subscribers or content performance?"
   ]
  },
  {
   "cell_type": "code",
   "execution_count": null,
   "id": "51c54514",
   "metadata": {},
   "outputs": [],
   "source": [
    "group_ai = df_clean.groupby('AI Generated Content (%)').agg({'Total Subscribers':'mean','Engagement Score':'mean','Content Value Index':'mean'}).reset_index()\n",
    "print(group_ai.head())\n",
    "\n",
    "group_neural = df_clean.groupby('Neural Interface Compatible').agg({'Total Subscribers':'mean','Engagement Score':'mean','Content Value Index':'mean'}).reset_index()\n",
    "print(group_neural)\n",
    "\n",
    "group_meta = df_clean.groupby('Metaverse Integration Level').agg({'Total Subscribers':'mean','Engagement Score':'mean','Content Value Index':'mean'}).reset_index()\n",
    "print(group_meta)"
   ]
  },
  {
   "cell_type": "markdown",
   "id": "00cd1970",
   "metadata": {},
   "source": [
    "### Visualization: AI Generated Content (%) vs Engagement Score (average by % bucket)"
   ]
  },
  {
   "cell_type": "code",
   "execution_count": null,
   "id": "ff08eb94",
   "metadata": {},
   "outputs": [],
   "source": [
    "import matplotlib.pyplot as plt\n",
    "plt.figure(figsize=(10,6))\n",
    "plt.plot(group_ai['AI Generated Content (%)'], group_ai['Engagement Score'], marker='o')\n",
    "plt.title('AI Generated Content (%) vs Avg Engagement Score')\n",
    "plt.xlabel('AI Generated Content (%)')\n",
    "plt.ylabel('Avg Engagement Score')\n",
    "plt.tight_layout()\n",
    "plt.savefig(r'/mnt/data/youtube_analysis_outputs/ai_vs_engagement.png')\n",
    "plt.show()"
   ]
  },
  {
   "cell_type": "markdown",
   "id": "49eb7c6d",
   "metadata": {},
   "source": [
    "## 5) Does video length correlate with higher engagement or content value index?"
   ]
  },
  {
   "cell_type": "code",
   "execution_count": null,
   "id": "decd24da",
   "metadata": {},
   "outputs": [],
   "source": [
    "import matplotlib.pyplot as plt\n",
    "# Scatter plots and correlations\n",
    "plt.figure(figsize=(8,6))\n",
    "plt.scatter(df_clean['Avg Video Length (min)'], df_clean['Engagement Score'])\n",
    "plt.xlabel('Avg Video Length (min)')\n",
    "plt.ylabel('Engagement Score')\n",
    "plt.title('Avg Video Length vs Engagement Score')\n",
    "plt.tight_layout()\n",
    "plt.savefig(r'/mnt/data/youtube_analysis_outputs/length_vs_engagement.png')\n",
    "plt.show()\n",
    "\n",
    "corr_len_eng = df_clean['Avg Video Length (min)'].corr(df_clean['Engagement Score'])\n",
    "corr_len_val = df_clean['Avg Video Length (min)'].corr(df_clean['Content Value Index'])\n",
    "print('Correlation (length, engagement):', corr_len_eng)\n",
    "print('Correlation (length, content value):', corr_len_val)"
   ]
  },
  {
   "cell_type": "markdown",
   "id": "110dd19e",
   "metadata": {},
   "source": [
    "## 6) Patterns in advanced content technology usage (Quantum, Holography) that drive performance"
   ]
  },
  {
   "cell_type": "code",
   "execution_count": null,
   "id": "e2f787e9",
   "metadata": {},
   "outputs": [],
   "source": [
    "if 'Quantum Computing Topics' in df_clean.columns:\n",
    "    q = df_clean.groupby('Quantum Computing Topics').agg({'Total Subscribers':'mean','Engagement Score':'mean','Content Value Index':'mean'}).reset_index()\n",
    "    display(q.head())\n",
    "else:\n",
    "    print('No Quantum column found')\n",
    "\n",
    "if 'Holographic Content Rating' in df_clean.columns:\n",
    "    h = df_clean.groupby('Holographic Content Rating').agg({'Total Subscribers':'mean','Engagement Score':'mean','Content Value Index':'mean'}).reset_index()\n",
    "    display(h.head())\n",
    "else:\n",
    "    print('No Holographic Content Rating column found')"
   ]
  },
  {
   "cell_type": "markdown",
   "id": "7c409a70",
   "metadata": {},
   "source": [
    "## 7) Which channels strike the best balance between innovation and audience retention?\n",
    "We'll define a composite 'Innovation Score' and look for channels with high Innovation & high Engagement."
   ]
  },
  {
   "cell_type": "code",
   "execution_count": null,
   "id": "6c2a728a",
   "metadata": {},
   "outputs": [],
   "source": [
    "# Create a simple Innovation Score: normalized sum of AI%, QuantumTopics, HolographicRating (if present), Metaverse level (encoded)\n",
    "df2 = df_clean.copy()\n",
    "# Normalize components\n",
    "from sklearn.preprocessing import MinMaxScaler\n",
    "scaler = MinMaxScaler()\n",
    "components = []\n",
    "if 'AI Generated Content (%)' in df2.columns:\n",
    "    components.append('AI Generated Content (%)')\n",
    "if 'Quantum Computing Topics' in df2.columns:\n",
    "    components.append('Quantum Computing Topics')\n",
    "if 'Holographic Content Rating' in df2.columns:\n",
    "    components.append('Holographic Content Rating')\n",
    "# Encode Metaverse Integration Level (simple ordinal encoding)\n",
    "if 'Metaverse Integration Level' in df2.columns:\n",
    "    df2['Metaverse_Encoded'] = df2['Metaverse Integration Level'].astype('category').cat.codes\n",
    "    components.append('Metaverse_Encoded')\n",
    "\n",
    "if components:\n",
    "    df2_comp = df2[components].fillna(0)\n",
    "    df2_scaled = pd.DataFrame(scaler.fit_transform(df2_comp), columns=components)\n",
    "    df2['Innovation_Score'] = df2_scaled.sum(axis=1)\n",
    "    # Composite rank: Innovation_Score and Engagement Score\n",
    "    df2['Composite'] = df2['Innovation_Score'] * 0.5 + (df2['Engagement Score'] / df2['Engagement Score'].max()) * 0.5\n",
    "    best_balance = df2.sort_values(['Composite'], ascending=False).head(20)\n",
    "    best_balance[['Channel Name','Youtuber Name','Innovation_Score','Engagement Score','Composite']].head(10)\n",
    "else:\n",
    "    print('No innovation-related components found to calculate Innovation Score')"
   ]
  },
  {
   "cell_type": "code",
   "execution_count": null,
   "id": "34fa76db",
   "metadata": {},
   "outputs": [],
   "source": [
    "with pd.ExcelWriter(r'/mnt/data/youtube_analysis_outputs', engine='openpyxl') as writer:\n",
    "    top_engagement.to_excel(writer, sheet_name='Top_By_Engagement', index=False)\n",
    "    top_value.to_excel(writer, sheet_name='Top_By_ContentValue', index=False)\n",
    "    group_ai.to_excel(writer, sheet_name='Group_AI', index=False)\n",
    "    group_neural.to_excel(writer, sheet_name='Group_Neural', index=False)\n",
    "    group_meta.to_excel(writer, sheet_name='Group_Metaverse', index=False)\n",
    "\n",
    "print('Files saved to:')\n",
    "import os\n",
    "for f in os.listdir(r'/mnt/data/youtube_analysis_outputs'):\n",
    "    print('-', f)\n"
   ]
  }
 ],
 "metadata": {},
 "nbformat": 4,
 "nbformat_minor": 5
}
