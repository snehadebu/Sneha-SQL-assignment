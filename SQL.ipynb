{
  "nbformat": 4,
  "nbformat_minor": 0,
  "metadata": {
    "colab": {
      "provenance": []
    },
    "kernelspec": {
      "name": "python3",
      "display_name": "Python 3"
    },
    "language_info": {
      "name": "python"
    }
  },
  "cells": [
    {
      "cell_type": "code",
      "source": [
        "import sqlite3\n",
        "conn=sqlite3.connect('test.db')"
      ],
      "metadata": {
        "colab": {
          "base_uri": "https://localhost:8080/",
          "height": 211
        },
        "id": "X6F5cEcn71Gj",
        "outputId": "c8ad113c-b2d0-460d-febd-016610a6f76f"
      },
      "execution_count": 3,
      "outputs": [
        {
          "output_type": "error",
          "ename": "NameError",
          "evalue": "name 'null' is not defined",
          "traceback": [
            "\u001b[0;31m---------------------------------------------------------------------------\u001b[0m",
            "\u001b[0;31mNameError\u001b[0m                                 Traceback (most recent call last)",
            "\u001b[0;32m/tmp/ipython-input-224811798.py\u001b[0m in \u001b[0;36m<cell line: 0>\u001b[0;34m()\u001b[0m\n\u001b[1;32m    196\u001b[0m         \u001b[0;34m\"id\"\u001b[0m\u001b[0;34m:\u001b[0m \u001b[0;34m\"5YMSj0f4lSN9\"\u001b[0m\u001b[0;34m\u001b[0m\u001b[0;34m\u001b[0m\u001b[0m\n\u001b[1;32m    197\u001b[0m       },\n\u001b[0;32m--> 198\u001b[0;31m       \u001b[0;34m\"execution_count\"\u001b[0m\u001b[0;34m:\u001b[0m \u001b[0mnull\u001b[0m\u001b[0;34m,\u001b[0m\u001b[0;34m\u001b[0m\u001b[0;34m\u001b[0m\u001b[0m\n\u001b[0m\u001b[1;32m    199\u001b[0m       \u001b[0;34m\"outputs\"\u001b[0m\u001b[0;34m:\u001b[0m \u001b[0;34m[\u001b[0m\u001b[0;34m]\u001b[0m\u001b[0;34m\u001b[0m\u001b[0;34m\u001b[0m\u001b[0m\n\u001b[1;32m    200\u001b[0m     },\n",
            "\u001b[0;31mNameError\u001b[0m: name 'null' is not defined"
          ]
        }
      ]
    },
    {
      "cell_type": "code",
      "metadata": {
        "id": "vDwBXYIFzqJa"
      },
      "source": [
        "import sqlite3\n",
        "conn=sqlite3.connect('test.db')"
      ],
      "execution_count": null,
      "outputs": []
    },
    {
      "cell_type": "code",
      "metadata": {
        "id": "pkBoO4hEeqMW"
      },
      "source": [
        "     CREATE TABLE employees (\n",
        "    emp_id INTEGER PRIMARY KEY NOT NULL,         -- 🔑 Employee ID, unique and required\n",
        "    emp_name TEXT NOT NULL,                      -- 📝 Employee Name, required\n",
        "    age INTEGER CHECK (age >= 18),               -- 🎂 Age, must be 18 or older\n",
        "    email TEXT UNIQUE NOT NULL,                  -- 📧 Email, unique for each employee\n",
        "    salary DECIMAL DEFAULT 30000.00              -- 💰 Salary, defaults to 30,000\n",
        ");"
      ],
      "execution_count": null,
      "outputs": []
    },
    {
      "cell_type": "code",
      "metadata": {
        "id": "KSfy0cz3lGqK"
      },
      "source": [
        "ALTER TABLE table_name\n",
        "ADD CONSTRAINT constraint_name constraint_type (column_name);"
      ],
      "execution_count": null,
      "outputs": []
    },
    {
      "cell_type": "code",
      "metadata": {
        "id": "5YMSj0f4lSN9"
      },
      "source": [
        "-- First, make sure there are no duplicate emails already in the table.\n",
        "-- If there are, this command will fail.\n",
        "ALTER TABLE employees\n",
        "ADD CONSTRAINT uq_email UNIQUE (email);"
      ],
      "execution_count": null,
      "outputs": []
    },
    {
      "cell_type": "code",
      "metadata": {
        "id": "MfWFQqPvlu2y"
      },
      "source": [
        "SQL\n",
        "ALTER TABLE table_name\n",
        "DROP CONSTRAINT constraint_name;"
      ],
      "execution_count": null,
      "outputs": []
    },
    {
      "cell_type": "code",
      "metadata": {
        "id": "GdT8QSDrl2YJ"
      },
      "source": [
        "SQL\n",
        "ALTER TABLE employees\n",
        "DROP CONSTRAINT uq_email;"
      ],
      "execution_count": null,
      "outputs": []
    },
    {
      "cell_type": "code",
      "metadata": {
        "id": "DxRXvJpsmt9v"
      },
      "source": [
        "SQL\n",
        "\n",
        "-- This INSERT works because the email is unique\n",
        "INSERT INTO employees (emp_id, emp_name, email) VALUES (1, 'Alice', 'alice@company.com');\n",
        "\n",
        "-- This INSERT will fail because the email 'alice@company.com' already exists\n",
        "INSERT INTO employees (emp_id, emp_name, email) VALUES (2, 'Bob', 'ashishpal.com');"
      ],
      "execution_count": null,
      "outputs": []
    },
    {
      "cell_type": "code",
      "metadata": {
        "id": "lhFxE-M_wY0t"
      },
      "source": [
        "import pandas as pd\n",
        "\n",
        "students_data = {'student_id': [1, 2, 3],\n",
        "                'student_name': ['Alice', 'Bob', 'Charlie'],\n",
        "                'class_id': [101, 102, 101]}\n",
        "students_df = pd.DataFrame(students_data)\n",
        "print(\" \")\n",
        "classes_data = {'class_id': [101, 102, 103],\n",
        "               'class_name': ['Math', 'Science', 'History']}\n",
        "classes_df = pd.DataFrame(classes_data)\n",
        "\n",
        "print(\"Students Table:\")\n",
        "print(students_df.to_markdown(index=False))\n",
        "print(\"  \")\n",
        "print(\"  \")\n",
        "print(\"  \")\n",
        "print(\"\\nClasses Table:\")\n",
        "print(classes_df.to_markdown(index=False))"
      ],
      "execution_count": null,
      "outputs": []
    },
    {
      "cell_type": "code",
      "metadata": {
        "id": "lj6PGUj93wfh"
      },
      "source": [
        "SQL\n",
        "\n",
        "SELECT\n",
        "    s.student_name,\n",
        "    c.class_name\n",
        "FROM\n",
        "    students s\n",
        "INNER JOIN\n",
        "    classes c ON s.class_id = c.class_id;"
      ],
      "execution_count": null,
      "outputs": []
    },
    {
      "cell_type": "code",
      "metadata": {
        "id": "3cQvUJkN4rM6"
      },
      "source": [
        "import pandas as pd\n",
        "import numpy as np\n",
        "\n",
        "orders_data = {'order_id': [1, 2, 3],\n",
        "               'order_date': ['2024-01-01', '2024-01-02', '2024-01-03'],\n",
        "               'customer_id': [101, 101, 102]}\n",
        "orders_df = pd.DataFrame(orders_data)\n",
        "print(\"Orders Table:\")\n",
        "print(orders_df.to_markdown(index=False))\n",
        "print(\"\\n\")\n",
        "\n",
        "\n",
        "Customers_data = {'customer_id':[101,102],\n",
        "                  'customer_name':['Alice', 'Bob']}\n",
        "Customers_df = pd.DataFrame(Customers_data)\n",
        "print('Customers Table:')\n",
        "print(Customers_df.to_markdown(index=False))\n",
        "print(\"\\n\")\n",
        "\n",
        "\n",
        "Product_data = {\n",
        "    'Product_id':[1,2],\n",
        "    'product_name':['Laptop','Phone'],\n",
        "    'order_id':[1,'NULL']\n",
        "}\n",
        "Product_df_original = pd.DataFrame(Product_data)\n",
        "print('Product Table (Original):')\n",
        "print(Product_df_original.to_markdown(index=False))"
      ],
      "execution_count": null,
      "outputs": []
    },
    {
      "cell_type": "code",
      "metadata": {
        "id": "dEz9kc588nad"
      },
      "source": [
        "import pandas as pd\n",
        "import numpy as np\n",
        "\n",
        "# Original DataFrames\n",
        "orders_data = {'order_id': [1, 2, 3],\n",
        "               'order_date': ['2024-01-01', '2024-01-02', '2024-01-03'],\n",
        "               'customer_id': [101, 101, 102]}\n",
        "orders_df = pd.DataFrame(orders_data)\n",
        "\n",
        "Customers_data = {'customer_id':[101,102],\n",
        "                  'customer_name':['Alice', 'Bob']}\n",
        "Customers_df = pd.DataFrame(Customers_data) # Renamed for clarity\n",
        "\n",
        "Product_data = {\n",
        "    'Product_id':[1,2],\n",
        "    'product_name':['Laptop','Phone'],\n",
        "    'order_id':[1,'NULL'] # Original 'NULL' as string\n",
        "}\n",
        "Product_df_original = pd.DataFrame(Product_data)\n",
        "\n",
        "# Pre-processing: Convert 'NULL' string to NaN in Product DataFrame for proper merging\n",
        "Product_df = Product_df_original.copy()\n",
        "Product_df['order_id'] = Product_df['order_id'].replace('NULL', np.nan).astype(float) # Convert to float to allow NaN\n",
        "\n",
        "# Display original tables\n",
        "print(\"Orders Table:\")\n",
        "print(orders_df.to_markdown(index=False))\n",
        "\n",
        "print(\"\\n\")\n",
        "\n",
        "print('Customers Table:')\n",
        "print(Customers_df.to_markdown(index=False))\n",
        "\n",
        "print(\"\\n\")\n",
        "\n",
        "print('Product Table (Original):')\n",
        "print(Product_df_original.to_markdown(index=False))\n",
        "\n",
        "print(\"\\n\")\n",
        "\n",
        "# --- Performing the Joins ---\n",
        "\n",
        "# Step 1: INNER JOIN orders_df with Customers_df\n",
        "# This links orders to customer names. We use an INNER JOIN because we only care\n",
        "# about orders that have a valid customer associated with them.\n",
        "orders_with_customers = pd.merge(orders_df, Customers_df, on='customer_id', how='inner')\n",
        "\n",
        "# Step 2: LEFT JOIN Product_df with the result from Step 1\n",
        "# We use Product_df as the LEFT DataFrame to ensure ALL products are listed,\n",
        "# even those (like the 'Phone') that don't have an 'order_id' or a matching order.\n",
        "# The `how='left'` ensures all rows from `Product_df` are kept.\n",
        "final_merged_df = pd.merge(Product_df, orders_with_customers[['order_id', 'customer_name']],\n",
        "                           on='order_id',\n",
        "                           how='left')\n",
        "\n",
        "# Select the required columns: order_id, customer_name, and product_name\n",
        "result_df = final_merged_df[['order_id', 'customer_name', 'product_name']]\n",
        "\n",
        "print('Resulting Query:')\n",
        "print(result_df.to_markdown(index=False))"
      ],
      "execution_count": null,
      "outputs": []
    },
    {
      "cell_type": "code",
      "metadata": {
        "id": "OmAj2Tei-4OP"
      },
      "source": [
        "orders_with_customers = pd.merge(orders_df, Customers_df, on='customer_id', how='inner')"
      ],
      "execution_count": null,
      "outputs": []
    },
    {
      "cell_type": "code",
      "metadata": {
        "id": "GwMyMcJG_B8a"
      },
      "source": [
        "final_merged_df = pd.merge(Product_df, orders_with_customers[['order_id', 'customer_name']],\n",
        "                           on='order_id',\n",
        "                           how='left')"
      ],
      "execution_count": null,
      "outputs": []
    },
    {
      "cell_type": "code",
      "metadata": {
        "id": "7HGiW_ux_bak"
      },
      "source": [
        "result_df = final_merged_df[['order_id', 'customer_name', 'product_name']]"
      ],
      "execution_count": null,
      "outputs": []
    },
    {
      "cell_type": "code",
      "metadata": {
        "id": "zjLqFx1iAE3q"
      },
      "source": [
        "import pandas as pd\n",
        "Sales={\n",
        "    'sales_id':[1,2,3],\n",
        "    'product_id':[101,102,101],\n",
        "    'amount':[500,300,700]\n",
        "}\n",
        "Sales=pd.DataFrame(Sales)\n",
        "print(\" Sales :\")\n",
        "print(Sales.to_markdown(index=False))\n",
        "\n",
        "print(\"\\n\")\n",
        "\n",
        "\n",
        "\n",
        "Products={\n",
        "    'product_id':[101,102],\n",
        "    'product_name':['Laptop','Phone']\n",
        "}\n",
        "Products=pd.DataFrame(Products)\n",
        "print(\"Products :\")\n",
        "print(Products.to_markdown(index=False))\n",
        "\n",
        "print(\"\\n\")"
      ],
      "execution_count": null,
      "outputs": []
    },
    {
      "cell_type": "code",
      "metadata": {
        "id": "u9JBq1MfCtA8"
      },
      "source": [
        "SELECT\n",
        "    p.product_name,        -- 🏷️ Select the product name\n",
        "    SUM(s.amount) AS total_sales_amount -- 💲 Calculate the sum of sales for each product\n",
        "FROM\n",
        "    Sales s                 -- 📈 From the Sales table (aliased as 's')\n",
        "INNER JOIN\n",
        "    Products p ON s.product_id = p.product_id -- 🤝 Join with the Products table (aliased as 'p')\n",
        "GROUP BY\n",
        "    p.product_name          --  grouping by product name\n",
        "ORDER BY\n",
        "    total_sales_amount DESC; -- sort in descending order"
      ],
      "execution_count": null,
      "outputs": []
    },
    {
      "cell_type": "code",
      "metadata": {
        "id": "bk8_xLejEZVn"
      },
      "source": [
        "import pandas as pd\n",
        "import numpy as np\n",
        "\n",
        "orders_data = {'order_id': [1, 2],\n",
        "               'order_date': ['2024-01-02', '2024-01-05'],\n",
        "               'customer_id': [1,2]}\n",
        "orders_df = pd.DataFrame(orders_data)\n",
        "print(\"Orders Table:\")\n",
        "print(orders_df.to_markdown(index=False))\n",
        "print(\"\\n\")\n",
        "print(\"\\n\")\n",
        "\n",
        "\n",
        "Customers_data = {'customer_id':[101,102],\n",
        "                  'customer_name':['Alice', 'Bob']}\n",
        "Customers_df = pd.DataFrame(Customers_data)\n",
        "print('Customers Table:')\n",
        "print(Customers_df.to_markdown(index=False))\n",
        "print(\"\\n\")\n",
        "print(\"\\n\")\n",
        "\n",
        "Order_details={\n",
        "    'order_id':[1,1,2],\n",
        "    'product_id':[101,102,101],\n",
        "    'quantity':[2,1,3]\n",
        "}\n",
        "Order_details=pd.DataFrame(Order_details)\n",
        "print(\"Oder_Details :\")\n",
        "print(Order_details.to_markdown(index=False))"
      ],
      "execution_count": null,
      "outputs": []
    },
    {
      "cell_type": "code",
      "metadata": {
        "id": "GEm975rhZSI-"
      },
      "source": [
        "SELECT\n",
        "    o.order_id,         -- 📦 The ID of the order\n",
        "    c.customer_name,    -- 👤 The name of the customer\n",
        "    od.quantity         -- #️⃣ The quantity of products in that order detail\n",
        "FROM\n",
        "    Orders o            -- Start with the Orders table (aliased as 'o')\n",
        "INNER JOIN\n",
        "    Customers c ON o.customer_id = c.customer_id -- 🤝 Link Orders to Customers by customer_id\n",
        "INNER JOIN\n",
        "    Oder_Details od ON o.order_id = od.order_id; -- 🔗 Link Orders to Order_Details by order_id"
      ],
      "execution_count": null,
      "outputs": []
    },
    {
      "cell_type": "code",
      "metadata": {
        "id": "B69y3tWMnKW1"
      },
      "source": [
        "SELECT\n",
        "    * -- 📝 The asterisk selects all columns\n",
        "FROM\n",
        "    actor; -- 🎭 From the actor table"
      ],
      "execution_count": null,
      "outputs": []
    },
    {
      "cell_type": "code",
      "metadata": {
        "id": "bUyLlfZGny9J"
      },
      "source": [
        "SELECT\n",
        "    * -- 📝 The asterisk selects all columns\n",
        "FROM\n",
        "    customer; -- 🧑‍🤝‍🧑 From the customer table"
      ],
      "execution_count": null,
      "outputs": []
    },
    {
      "cell_type": "code",
      "metadata": {
        "id": "62HRyxdaoHIY"
      },
      "source": [
        "SELECT\n",
        "    country -- 🗺️ Select the country name\n",
        "FROM\n",
        "    country; -- 🌎 From the country table"
      ],
      "execution_count": null,
      "outputs": []
    },
    {
      "cell_type": "code",
      "metadata": {
        "id": "eiIUFLIioWei"
      },
      "source": [
        "SELECT\n",
        "    * -- 📝 Select all columns\n",
        "FROM\n",
        "    customer -- 🧑‍🤝‍🧑 From the customer table\n",
        "WHERE\n",
        "    active = 1; -- ✅ Where the customer is active"
      ],
      "execution_count": null,
      "outputs": []
    },
    {
      "cell_type": "code",
      "metadata": {
        "id": "OuOQUEavopSb"
      },
      "source": [
        "SELECT\n",
        "    rental_id -- 🔑 Select the rental ID\n",
        "FROM\n",
        "    rental -- 📦 From the rental table\n",
        "WHERE\n",
        "    customer_id = 1; -- 🧑‍🤝‍🧑 For customer with ID 1"
      ],
      "execution_count": null,
      "outputs": []
    },
    {
      "cell_type": "code",
      "metadata": {
        "id": "gkFl75zQo4W3"
      },
      "source": [
        "SELECT\n",
        "    * -- 📝 Select all columns to see full film details\n",
        "FROM\n",
        "    film -- 🎥 From the film table\n",
        "WHERE\n",
        "    rental_duration > 5; -- ⏳ Filter for films with rental duration greater than 5"
      ],
      "execution_count": null,
      "outputs": []
    },
    {
      "cell_type": "code",
      "metadata": {
        "id": "T2b1l9lUpHxc"
      },
      "source": [
        "SELECT\n",
        "    COUNT(*) -- 🔢 Count all films that meet the criteria\n",
        "FROM\n",
        "    film -- 🎥 From the film table\n",
        "WHERE\n",
        "    replacement_cost > 15 AND replacement_cost < 20; -- 💲 Filter for the specified cost range"
      ],
      "execution_count": null,
      "outputs": []
    },
    {
      "cell_type": "code",
      "metadata": {
        "id": "sDBLVW0npXbT"
      },
      "source": [
        "SELECT\n",
        "    COUNT(DISTINCT first_name) AS unique_first_names_count -- 🔢 Count unique first names\n",
        "FROM\n",
        "    actor; -- 🎭 From the actor table"
      ],
      "execution_count": null,
      "outputs": []
    },
    {
      "cell_type": "code",
      "metadata": {
        "id": "UIQxI0Uopqi2"
      },
      "source": [
        "SELECT\n",
        "    * -- 📝 Select all columns\n",
        "FROM\n",
        "    customer -- 🧑‍🤝‍🧑 From the customer table\n",
        "LIMIT 10; -- ➡️ Limit the result to the first 10 records"
      ],
      "execution_count": null,
      "outputs": []
    },
    {
      "cell_type": "code",
      "metadata": {
        "id": "udiKYbPAqKVS"
      },
      "source": [
        "SELECT\n",
        "    * -- 📝 Select all columns\n",
        "FROM\n",
        "    customer -- 🧑‍🤝‍🧑 From the customer table\n",
        "WHERE\n",
        "    first_name LIKE 'B%' -- 🔍 Filter for first names that start with 'B'\\n\",\n",
        "LIMIT 3; -- ➡️ Limit the result to the first 3 records"
      ],
      "execution_count": null,
      "outputs": []
    },
    {
      "cell_type": "code",
      "metadata": {
        "id": "8DBtR9LyqWYz"
      },
      "source": [
        "SELECT\n",
        "    title -- 🎥 Select the movie title\n",
        "FROM\n",
        "    film -- 🎞️ From the film table\n",
        "WHERE\n",
        "    rating = 'G' -- 👶 Filter for movies with a 'G' rating\n",
        "LIMIT 5; -- 🔟 Limit the result to the first 5 movies"
      ],
      "execution_count": null,
      "outputs": []
    },
    {
      "cell_type": "code",
      "metadata": {
        "id": "sMBEltN-qjIk"
      },
      "source": [
        "SELECT\n",
        "    * -- 📝 Select all customer details\n",
        "FROM\n",
        "    customer -- 🧑‍🤝‍🧑 From the customer table\n",
        "WHERE\n",
        "    first_name LIKE 'A%'; -- 🅰️ Filter for names that begin with 'A'"
      ],
      "execution_count": null,
      "outputs": []
    },
    {
      "cell_type": "code",
      "metadata": {
        "id": "-6hpsM5Sqx2V"
      },
      "source": [
        "SELECT\n",
        "    * -- 📝 Select all customer details\n",
        "FROM\n",
        "    customer -- 🧑‍🤝‍🧑 From the customer table\n",
        "WHERE\n",
        "    first_name LIKE '%a'; -- 🅰️ Filter for names that end with 'a'"
      ],
      "execution_count": null,
      "outputs": []
    },
    {
      "cell_type": "code",
      "metadata": {
        "id": "NYzjOVfqq_Gq"
      },
      "source": [
        "SELECT\n",
        "    city -- 🌆 Select the city name\n",
        "FROM\n",
        "    city -- 🗺️ From the city table\n",
        "WHERE\n",
        "    city LIKE 'a%a' -- 🔍 Filter for cities that start and end with 'a'\n",
        "LIMIT 4; -- ➡️ Limit the result to the first 4 cities"
      ],
      "execution_count": null,
      "outputs": []
    },
    {
      "cell_type": "code",
      "metadata": {
        "id": "P_xwOoqQrcjJ"
      },
      "source": [
        "SELECT\n",
        "    * -- 📝 Select all customer details\n",
        "FROM\n",
        "    customer -- 🧑‍🤝‍🧑 From the customer table\n",
        "WHERE\n",
        "    first_name LIKE '_r%'; -- 🔍 Filter for names with 'r' in the second position"
      ],
      "execution_count": null,
      "outputs": []
    },
    {
      "cell_type": "code",
      "metadata": {
        "id": "W_fDo1y9rqAg"
      },
      "source": [
        "SELECT\n",
        "    * -- 📝 Select all customer details\n",
        "FROM\n",
        "    customer -- 🧑‍🤝‍🧑 From the customer table\n",
        "WHERE\n",
        "    first_name LIKE 'A____%'; -- 🅰️ Filter for names starting with 'A' and at least 5 characters long"
      ],
      "execution_count": null,
      "outputs": []
    },
    {
      "cell_type": "code",
      "metadata": {
        "id": "3igqFouJr29u"
      },
      "source": [
        "SELECT\n",
        "    * -- 📝 Select all customer details\n",
        "FROM\n",
        "    customer -- 🧑‍🤝‍🧑 From the customer table\n",
        "WHERE\n",
        "    first_name LIKE 'A%o'; -- 🅰️ Filter for names that begin with 'A' and end with 'o'"
      ],
      "execution_count": null,
      "outputs": []
    },
    {
      "cell_type": "code",
      "metadata": {
        "id": "2OIjwwXjsD3e"
      },
      "source": [
        "SELECT\n",
        "    * -- 📝 Select all film details\n",
        "FROM\n",
        "    film -- 🎞️ From the film table\n",
        "WHERE\n",
        "    rating IN ('PG', 'PG-13'); -- 📋 Filter for films with a 'PG' or 'PG-13' rating"
      ],
      "execution_count": null,
      "outputs": []
    },
    {
      "cell_type": "code",
      "metadata": {
        "id": "zZ_linXHsS0-"
      },
      "source": [
        "SELECT\n",
        "    * -- 📝 Select all film details\n",
        "FROM\n",
        "    film -- 🎥 From the film table\n",
        "WHERE\n",
        "    length BETWEEN 50 AND 100; -- 📏 Filter for films with a length between 50 and 100 minutes"
      ],
      "execution_count": null,
      "outputs": []
    },
    {
      "cell_type": "code",
      "metadata": {
        "id": "UGk4f1_6shOO"
      },
      "source": [
        "SELECT\n",
        "    * -- 📝 Select all columns for the actors\n",
        "FROM\n",
        "    actor -- 🧑‍🤝‍🧑 From the actor table\n",
        "LIMIT 50; -- ➡️ Limit the result to the first 50 records"
      ],
      "execution_count": null,
      "outputs": []
    },
    {
      "cell_type": "code",
      "metadata": {
        "id": "ABZ-GqQjsxyq"
      },
      "source": [
        "SELECT DISTINCT\n",
        "    film_id -- 🎬 Select only unique film IDs\n",
        "FROM\n",
        "    inventory; -- 📦 From the inventory table"
      ],
      "execution_count": null,
      "outputs": []
    },
    {
      "cell_type": "code",
      "metadata": {
        "id": "S8apoD1evExQ"
      },
      "source": [
        "SELECT COUNT(*) FROM rental;"
      ],
      "execution_count": null,
      "outputs": []
    },
    {
      "cell_type": "code",
      "metadata": {
        "id": "qniOvr2ovYh7"
      },
      "source": [
        "SELECT\n",
        "    AVG(rental_duration)\n",
        "FROM\n",
        "    film;"
      ],
      "execution_count": null,
      "outputs": []
    },
    {
      "cell_type": "code",
      "metadata": {
        "id": "5_JZA-fIvtiM"
      },
      "source": [
        "SELECT\n",
        "    UPPER(first_name),\n",
        "    UPPER(last_name)\n",
        "FROM\n",
        "    customer;"
      ],
      "execution_count": null,
      "outputs": []
    },
    {
      "cell_type": "code",
      "metadata": {
        "id": "4SH1858Wv_Iz"
      },
      "source": [
        "SELECT\n",
        "    rental_id,\n",
        "    MONTH(rental_date) AS rental_month\n",
        "FROM\n",
        "    rental;"
      ],
      "execution_count": null,
      "outputs": []
    },
    {
      "cell_type": "code",
      "metadata": {
        "id": "ROZMZjhgwg0P"
      },
      "source": [
        "SELECT\n",
        "    customer_id,        -- 🔑 Select the customer ID\n",
        "    COUNT(rental_id) AS rental_count -- 🔢 Count the number of rentals for each customer\n",
        "FROM\n",
        "    rental              -- 📦 From the rental table\n",
        "GROUP BY\n",
        "    customer_id;        -- 🧑‍🤝‍🧑 Group the results by customer ID"
      ],
      "execution_count": null,
      "outputs": []
    },
    {
      "cell_type": "code",
      "metadata": {
        "id": "-x-Fkl41w-Pv"
      },
      "source": [
        "SELECT\n",
        "    s.store_id,\n",
        "    SUM(p.amount) AS total_revenue\n",
        "FROM\n",
        "    store s\n",
        "JOIN\n",
        "    staff st ON s.manager_staff_id = st.staff_id\n",
        "JOIN\n",
        "    payment p ON st.store_id = p.store_id\n",
        "GROUP BY\n",
        "    s.store_id;"
      ],
      "execution_count": null,
      "outputs": []
    },
    {
      "cell_type": "code",
      "metadata": {
        "id": "Y7Dm4hXVxT_K"
      },
      "source": [
        "SELECT\n",
        "    c.name AS category_name,       -- 🏷️ Select the category name\n",
        "    COUNT(r.rental_id) AS rental_count -- 🔢 Count the number of rentals for each category\n",
        "FROM\n",
        "    category c                     -- From the category table (aliased as 'c')\n",
        "INNER JOIN\n",
        "    film_category fc ON c.category_id = fc.category_id -- 🤝 Link categories to films\n",
        "INNER JOIN\n",
        "    inventory i ON fc.film_id = i.film_id             -- 🔗 Link films to inventory\n",
        "INNER JOIN\n",
        "    rental r ON i.inventory_id = r.inventory_id         -- 📦 Link inventory to rentals\n",
        "GROUP BY\n",
        "    c.name                         -- 🗂️ Group the results by category name\n",
        "ORDER BY\n",
        "    rental_count DESC;             -- 🔽 Sort by the count of rentals in descending order"
      ],
      "execution_count": null,
      "outputs": []
    },
    {
      "cell_type": "code",
      "metadata": {
        "id": "EL_6hoK6xocq"
      },
      "source": [
        "SELECT\n",
        "    l.name AS language,         -- 🗣️ Select the language name\n",
        "    AVG(f.rental_rate) AS average_rental_rate -- 💲 Calculate the average rental rate for each language\n",
        "FROM\n",
        "    film f                     -- From the film table (aliased as 'f')\n",
        "INNER JOIN\n",
        "    language l ON f.language_id = l.language_id -- 🤝 Join with the language table (aliased as 'l')\n",
        "GROUP BY\n",
        "    l.name;                     -- 🗂️ Group the results by language"
      ],
      "execution_count": null,
      "outputs": []
    },
    {
      "cell_type": "code",
      "metadata": {
        "id": "dsTG6CsJx-VH"
      },
      "source": [
        "SELECT\n",
        "    f.title AS movie_title,      -- 🎥 Select the movie title\n",
        "    c.first_name,                -- 👤 Select the customer's first name\n",
        "    c.last_name                  -- 👤 Select the customer's last name\n",
        "FROM\n",
        "    film f                       -- Start with the film table (aliased as 'f')\n",
        "INNER JOIN\n",
        "    inventory i ON f.film_id = i.film_id -- 🔗 Join film to inventory\n",
        "INNER JOIN\n",
        "    rental r ON i.inventory_id = r.inventory_id -- 🤝 Join inventory to rental\n",
        "INNER JOIN\n",
        "    customer c ON r.customer_id = c.customer_id -- 🧑‍🤝‍🧑 Join rental to customer\n",
        "ORDER BY\n",
        "    f.title;                     -- 🔠 Optional: Sort the results by movie title"
      ],
      "execution_count": null,
      "outputs": []
    },
    {
      "cell_type": "code",
      "metadata": {
        "id": "XzXCTn1vyYBH"
      },
      "source": [
        "SELECT\n",
        "    a.first_name,        -- 👤 Select the actor's first name\n",
        "    a.last_name          -- 👤 Select the actor's last name\n",
        "FROM\n",
        "    actor a              -- Start with the actor table (aliased as 'a')\n",
        "INNER JOIN\n",
        "    film_actor fa ON a.actor_id = fa.actor_id -- 🤝 Link actors to film_actor table\n",
        "INNER JOIN\n",
        "    film f ON fa.film_id = f.film_id          -- 🔗 Link film_actor to the film table\n",
        "WHERE\n",
        "    f.title = 'Gone with the Wind'; -- 🔍 Filter for the movie title"
      ],
      "execution_count": null,
      "outputs": []
    },
    {
      "cell_type": "code",
      "metadata": {
        "id": "BSIPOi6jyq55"
      },
      "source": [
        "SELECT\n",
        "    c.first_name,        -- 👤 Select the customer's first name\n",
        "    c.last_name,         -- 👤 Select the customer's last name\n",
        "    SUM(p.amount) AS total_spent -- 💰 Calculate the total amount spent\n",
        "FROM\n",
        "    customer c           -- Start with the customer table (aliased as 'c')\n",
        "INNER JOIN\n",
        "    payment p ON c.customer_id = p.customer_id -- 🤝 Join with the payment table using customer_id\n",
        "GROUP BY\n",
        "    c.customer_id,       -- 🗂️ Group the results by customer ID\n",
        "    c.first_name,        -- 🗂️ and first name\n",
        "    c.last_name          -- 🗂️ and last name\n",
        "ORDER BY\n",
        "    total_spent DESC;    -- 🔽 Sort by the total amount spent in descending order"
      ],
      "execution_count": null,
      "outputs": []
    },
    {
      "cell_type": "code",
      "metadata": {
        "id": "kZlgkTmLzBjY"
      },
      "source": [
        "SELECT\n",
        "    f.title AS movie_title,      -- 🎥 Select the movie title\n",
        "    c.first_name,                -- 👤 The customer's first name\n",
        "    c.last_name                  -- 👤 The customer's last name\n",
        "FROM\n",
        "    customer c                   -- Start with the customer table (aliased as 'c')\n",
        "INNER JOIN\n",
        "    address a ON c.address_id = a.address_id    -- 🤝 Link customer to their address\n",
        "INNER JOIN\n",
        "    city ci ON a.city_id = ci.city_id           -- 🔗 Link address to the city\n",
        "INNER JOIN\n",
        "    rental r ON c.customer_id = r.customer_id    -- 🤝 Link customer to their rentals\n",
        "INNER JOIN\n",
        "    inventory i ON r.inventory_id = i.inventory_id  -- 📦 Link rentals to inventory\n",
        "INNER JOIN\n",
        "    film f ON i.film_id = f.film_id             -- 🎞️ Link inventory to films\n",
        "WHERE\n",
        "    ci.city = 'London'           -- 🔍 Filter for a specific city\n",
        "GROUP BY\n",
        "    f.title,                     -- 🗂️ Group the results to avoid duplicates\n",
        "    c.first_name,\n",
        "    c.last_name\n",
        "ORDER BY\n",
        "    c.last_name, c.first_name, f.title; -- 🔡 Sort for easy reading"
      ],
      "execution_count": null,
      "outputs": []
    },
    {
      "cell_type": "code",
      "metadata": {
        "id": "28HF22eh0Mr-"
      },
      "source": [
        "SELECT\n",
        "    f.title AS movie_title,          -- 🎥 Select the movie title\n",
        "    COUNT(r.rental_id) AS rental_count -- 🔢 Count the number of times each movie has been rented\n",
        "FROM\n",
        "    film f                           -- Start with the film table (aliased as 'f')\n",
        "INNER JOIN\n",
        "    inventory i ON f.film_id = i.film_id -- 🔗 Link films to their inventory copies\n",
        "INNER JOIN\n",
        "    rental r ON i.inventory_id = r.inventory_id -- 🤝 Link inventory to rental transactions\n",
        "GROUP BY\n",
        "    f.title                          -- 🗂️ Group all rentals for the same movie together\n",
        "ORDER BY\n",
        "    rental_count DESC                -- 🔽 Sort the results from most rented to least\n",
        "LIMIT 5;                             -- 🖐️ Limit the output to the top 5"
      ],
      "execution_count": null,
      "outputs": []
    },
    {
      "cell_type": "code",
      "metadata": {
        "id": "oTk1osYp0d-4"
      },
      "source": [
        "SELECT\n",
        "    c.first_name,         -- 👤 Select the customer's first name\n",
        "    c.last_name,          -- 👤 Select the customer's last name\n",
        "    COUNT(DISTINCT i.store_id) AS store_count -- 🔢 Count the unique stores they rented from\n",
        "FROM\n",
        "    customer c            -- Start with the customer table (aliased as 'c')\n",
        "INNER JOIN\n",
        "    rental r ON c.customer_id = r.customer_id -- 🤝 Link customers to their rentals\n",
        "INNER JOIN\n",
        "    inventory i ON r.inventory_id = i.inventory_id -- 🔗 Link rentals to the inventory to get the store ID\n",
        "GROUP BY\n",
        "    c.customer_id,        -- 🗂️ Group the results for each customer\n",
        "    c.first_name,\\n\",\n",
        "    c.last_name\n",
        "HAVING\n",
        "    COUNT(DISTINCT i.store_id) = 2; -- 🔍 Filter for customers who have rented from exactly 2 distinct stores"
      ],
      "execution_count": null,
      "outputs": []
    },
    {
      "cell_type": "code",
      "metadata": {
        "id": "Rgf3FMNe02u7"
      },
      "source": [
        "SELECT\n",
        "    c.customer_id,                     -- 🔑 Select the customer's ID\n",
        "    c.first_name,                      -- 👤 Select the customer's first name\n",
        "    c.last_name,                       -- 👤 Select the customer's last name\n",
        "    SUM(p.amount) AS total_spent,      -- 💰 Calculate the total amount spent by each customer\n",
        "    RANK() OVER (ORDER BY SUM(p.amount) DESC) as customer_rank -- 🥇 Rank customers by total spending\n",
        "FROM\n",
        "    customer c                         -- Start with the customer table (aliased as 'c')\n",
        "JOIN\n",
        "    payment p ON c.customer_id = p.customer_id -- 🤝 Join with the payment table\n",
        "GROUP BY\n",
        "    c.customer_id, c.first_name, c.last_name -- 🗂️ Group results for each unique customer\n",
        "ORDER BY\n",
        "    customer_rank ASC;                 -- 🔝 Display the highest-ranking customers first"
      ],
      "execution_count": null,
      "outputs": []
    },
    {
      "cell_type": "code",
      "metadata": {
        "id": "XNbYY_yP1KTp"
      },
      "source": [
        "SELECT\n",
        "    f.title,                           -- 🎥 The title of the movie\n",
        "    p.payment_date,                    -- 📅 The date of the payment\n",
        "    p.amount,                          -- 💲 The amount of the individual payment\n",
        "    SUM(p.amount) OVER (PARTITION BY f.film_id ORDER BY p.payment_date) AS cumulative_revenue -- 💰 Calculate the cumulative revenue\n",
        "FROM\n",
        "    payment p                          -- Start with the payment table (aliased as 'p')\n",
        "JOIN\n",
        "    rental r ON p.rental_id = r.rental_id  -- 🤝 Join payments to rentals\n",
        "JOIN\n",
        "    inventory i ON r.inventory_id = i.inventory_id -- 🔗 Join rentals to inventory\n",
        "JOIN\n",
        "    film f ON i.film_id = f.film_id      -- 🎞️ Join inventory to films\n",
        "ORDER BY\n",
        "    f.title,                           -- 🔠 Sort by movie title\n",
        "    p.payment_date;                    -- 🗓️ Then by date to show the progression"
      ],
      "execution_count": null,
      "outputs": []
    },
    {
      "cell_type": "code",
      "metadata": {
        "id": "bO_hWsex1XU_"
      },
      "source": [
        "WITH FilmLengthGroups AS (\\n\",\n",
        "    SELECT\n",
        "        title,\\n\",\n",
        "        length,\\n\",\n",
        "        rental_duration,\\n\",\n",
        "        NTILE(4) OVER (ORDER BY length) AS length_group\\n\",\n",
        "    FROM\n",
        "        film\\n\",\n",
        "\")\\n\",\n",
        "SELECT\\n\",\n",
        "    length_group,\\n\",\n",
        "    AVG(rental_duration) AS average_rental_duration,\\n\",\n",
        "    COUNT(*) AS film_count\\n\",\n",
        "FROM\\n\",\n",
        "    FilmLengthGroups\\n\",\n",
        "GROUP BY\\n\",\n",
        "    length_group\\n\",\n",
        "ORDER BY\\n\",\n",
        "    length_group;"
      ],
      "execution_count": null,
      "outputs": []
    },
    {
      "cell_type": "code",
      "metadata": {
        "id": "m63rVOd21rMg"
      },
      "source": [
        "WITH FilmRentalCounts AS (\\n\",\n",
        "    SELECT\\n\",\n",
        "        f.title,\\n\",\n",
        "        c.name AS category_name,\\n\",\n",
        "        COUNT(r.rental_id) AS rental_count\\n\",\n",
        "    FROM\\n\",\n",
        "        film f\\n\",\n",
        "    JOIN\\n\",\n",
        "        inventory i ON f.film_id = i.film_id\\n\",\n",
        "    JOIN\\n\",\n",
        "        rental r ON i.inventory_id = r.inventory_id\\n\",\n",
        "    JOIN\\n\",\n",
        "        film_category fc ON f.film_id = fc.film_id\\n\",\n",
        "    JOIN\\n\",\n",
        "        category c ON fc.category_id = c.category_id\\n\",\n",
        "    GROUP BY\\n\",\n",
        "        f.title, c.name\\n\",\n",
        "\")\\n\",\n",
        "\", RankedFilms AS (\\n\",\n",
        "    SELECT\\n\",\n",
        "        title,\\n\",\n",
        "        category_name,\\n\",\n",
        "        rental_count,\\n\",\n",
        "        RANK() OVER (PARTITION BY category_name ORDER BY rental_count DESC) as category_rank\\n\",\n",
        "    FROM\\n\",\n",
        "        FilmRentalCounts\\n\",\n",
        "\")\\n\",\n",
        "SELECT\\n\",\n",
        "    title,\\n\",\n",
        "    category_name,\\n\",\n",
        "    rental_count\\n\",\n",
        "FROM\\n\",\n",
        "    RankedFilms\\n\",\n",
        "WHERE\\n\",\n",
        "    category_rank <= 3\\n\",\n",
        "ORDER BY\\n\",\n",
        "    category_name, category_rank;"
      ],
      "execution_count": null,
      "outputs": []
    },
    {
      "cell_type": "code",
      "metadata": {
        "id": "Eizj-Wih2J3A"
      },
      "source": [
        "WITH CustomerRentalCounts AS (\\n\",\n",
        "    SELECT\\n\",\n",
        "        customer_id,\\n\",\n",
        "        COUNT(rental_id) AS total_rentals_by_customer\\n\",\n",
        "    FROM\\n\",\n",
        "        rental\\n\",\n",
        "    GROUP BY\\n\",\n",
        "        customer_id\\n\",\n",
        "\"),\\n\",\n",
        "\"AverageRentals AS (\\n\",\n",
        "    SELECT\\n\",\n",
        "        AVG(total_rentals_by_customer) AS average_rentals_across_all_customers\\n\",\n",
        "    FROM\\n\",\n",
        "        CustomerRentalCounts\\n\",\n",
        "\")\\n\",\n",
        "\"SELECT\\n\",\n",
        "    crc.customer_id,\\n\",\n",
        "    crc.total_rentals_by_customer,\\n\",\n",
        "    ar.average_rentals_across_all_customers,\\n\",\n",
        "    crc.total_rentals_by_customer - ar.average_rentals_across_all_customers AS difference_from_average\\n\",\n",
        "FROM\\n\",\n",
        "    CustomerRentalCounts crc,\\n\",\n",
        "    AverageRentals ar\\n\",\n",
        "ORDER BY\\n\",\n",
        "    difference_from_average DESC;"
      ],
      "execution_count": null,
      "outputs": []
    },
    {
      "cell_type": "code",
      "metadata": {
        "id": "OGggESjd2bB5"
      },
      "source": [
        "SELECT\\n\",\n",
        "    DATE_FORMAT(payment_date, '%Y-%m') AS rental_month, -- 📅 Format the date to show year and month\\n\",\n",
        "    SUM(amount) AS total_revenue     -- 💰 Calculate the total revenue for each month\\n\",\n",
        "FROM\\n\",\n",
        "    payment                         -- From the payment table\\n\",\n",
        "GROUP BY\\n\",\n",
        "    rental_month                    -- 🗂️ Group the results by the formatted month\\n\",\n",
        "ORDER BY\\n\",\n",
        "    rental_month;                   -- 🔽 Order the results chronologically"
      ],
      "execution_count": null,
      "outputs": []
    },
    {
      "cell_type": "code",
      "metadata": {
        "id": "k-GCdVmK2pol"
      },
      "source": [
        "WITH CustomerTotalSpending AS (\\n\",\n",
        "    SELECT\\n\",\n",
        "        customer_id,\\n\",\n",
        "        SUM(amount) AS total_spent\\n\",\n",
        "    FROM\\n\",\n",
        "        payment\\n\",\n",
        "    GROUP BY\\n\",\n",
        "        customer_id\\n\",\n",
        "\"),\\n\",\n",
        "\"RankedCustomers AS (\\n\",\n",
        "    SELECT\\n\",\n",
        "        customer_id,\\n\",\n",
        "        total_spent,\\n\",\n",
        "        NTILE(5) OVER (ORDER BY total_spent DESC) as spending_quartile -- 5 is used for 20% (100/20=5)\\n\",\n",
        "    FROM\\n\",\n",
        "        CustomerTotalSpending\\n\",\n",
        "\")\\n\",\n",
        "\"SELECT\\n\",\n",
        "    c.first_name,\\n\",\n",
        "    c.last_name,\\n\",\n",
        "    rc.total_spent\\n\",\n",
        "FROM\\n\",\n",
        "    customer c\\n\",\n",
        "JOIN\\n\",\n",
        "    RankedCustomers rc ON c.customer_id = rc.customer_id\\n\",\n",
        "WHERE\\n\",\n",
        "    rc.spending_quartile = 1\\n\",\n",
        "ORDER BY\\n\",\n",
        "    rc.total_spent DESC;"
      ],
      "execution_count": null,
      "outputs": []
    },
    {
      "cell_type": "code",
      "metadata": {
        "id": "wghbcvvI24AU"
      },
      "source": [
        "WITH RentalCounts AS (\\n\",\n",
        "    SELECT\\n\",\n",
        "        c.name AS category,\\n\",\n",
        "        COUNT(r.rental_id) AS rental_count\\n\",\n",
        "    FROM\\n\",\n",
        "        category c\\n\",\n",
        "    JOIN\\n\",\n",
        "        film_category fc ON c.category_id = fc.category_id\\n\",\n",
        "    JOIN\\n\",\n",
        "        inventory i ON fc.film_id = i.film_id\\n\",\n",
        "    JOIN\\n\",\n",
        "        rental r ON i.inventory_id = r.inventory_id\\n\",\n",
        "    GROUP BY\\n\",\n",
        "        c.name\\n\",\n",
        "\")\\n\",\n",
        "SELECT\\n\",\n",
        "    category,\\n\",\n",
        "    rental_count,\\n\",\n",
        "    SUM(rental_count) OVER (ORDER BY rental_count DESC) AS running_total_of_rentals\\n\",\n",
        "FROM\\n\",\n",
        "    RentalCounts\\n\",\n",
        "ORDER BY\\n\",\n",
        "    rental_count DESC;"
      ],
      "execution_count": null,
      "outputs": []
    },
    {
      "cell_type": "code",
      "metadata": {
        "id": "A2oqaZ1n3OH7"
      },
      "source": [
        "WITH FilmRentalCounts AS (\\n\",\n",
        "    -- Step 1: Calculate the rental count for each film.\\n\",\n",
        "    SELECT\\n\",\n",
        "        f.film_id,\\n\",\n",
        "        f.title,\\n\",\n",
        "        fc.category_id,\\n\",\n",
        "        COUNT(r.rental_id) AS rental_count\\n\",\n",
        "    FROM\\n\",\n",
        "        film f\\n\",\n",
        "    JOIN\\n\",\n",
        "        film_category fc ON f.film_id = fc.film_id\\n\",\n",
        "    JOIN\\n\",\n",
        "        inventory i ON fc.film_id = i.film_id\\n\",\n",
        "    JOIN\\n\",\n",
        "        rental r ON i.inventory_id = r.inventory_id\\n\",\n",
        "    GROUP BY\\n\",\n",
        "        f.film_id, f.title, fc.category_id\\n\",\n",
        "\"),\\n\",\n",
        "\"CategoryAverageRentals AS (\\n\",\n",
        "    -- Step 2: Calculate the average rental count for each category.\\n\",\n",
        "    SELECT\\n\",\n",
        "        category_id,\\n\",\n",
        "        AVG(rental_count) AS average_rental_count\\n\",\n",
        "    FROM\\n\",\n",
        "        FilmRentalCounts\\n\",\n",
        "    GROUP BY\\n\",\n",
        "        category_id\\n\",\n",
        "\")\\n\",\n",
        "\"-- Step 3: Find films with a rental count less than their category's average.\\n\",\n",
        "\"SELECT\\n\",\n",
        "    frc.title,\\n\",\n",
        "    frc.rental_count,\\n\",\n",
        "    car.average_rental_count\\n\",\n",
        "FROM\\n\",\n",
        "    FilmRentalCounts frc\\n\",\n",
        "JOIN\\n\",\n",
        "    CategoryAverageRentals car ON frc.category_id = car.category_id\\n\",\n",
        "WHERE\\n\",\n",
        "    frc.rental_count < car.average_rental_count\\n\",\n",
        "ORDER BY\\n\",\n",
        "    frc.rental_count DESC;"
      ],
      "execution_count": null,
      "outputs": []
    },
    {
      "cell_type": "code",
      "metadata": {
        "id": "Ob3yINvF3e87"
      },
      "source": [
        "SELECT\\n\",\n",
        "    DATE_FORMAT(payment_date, '%Y-%m') AS rental_month,\\n\",\n",
        "    SUM(amount) AS total_revenue\\n\",\n",
        "FROM\\n\",\n",
        "    payment\\n\",\n",
        "GROUP BY\\n\",\n",
        "    rental_month\\n\",\n",
        "ORDER BY\\n\",\n",
        "    total_revenue DESC\\n\",\n",
        "LIMIT 5;"
      ],
      "execution_count": null,
      "outputs": []
    }
  ]
}