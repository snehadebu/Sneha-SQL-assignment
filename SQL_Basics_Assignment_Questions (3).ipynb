{
  "nbformat": 4,
  "nbformat_minor": 0,
  "metadata": {
    "colab": {
      "provenance": []
    },
    "kernelspec": {
      "name": "python3",
      "display_name": "Python 3"
    },
    "language_info": {
      "name": "python"
    }
  },
  "cells": [
    {
      "cell_type": "code",
      "source": [
        "import sqlite3\n",
        "conn=sqlite3.connect('test.db')"
      ],
      "metadata": {
        "id": "vDwBXYIFzqJa"
      },
      "execution_count": 2,
      "outputs": []
    },
    {
      "cell_type": "markdown",
      "source": [
        "**1. Create a table called employees with the following structure?**\n",
        "\n",
        "**: emp_id (integer, should not be NULL and should be a primary key)**\n",
        "\n",
        "**: emp_name (text, should not be NULL)**\n",
        "\n",
        "**: age (integer, should have a check constraint to ensure the age is at least 18)**\n",
        "\n",
        "**: email (text, should be unique for each employee)**\n",
        "\n",
        "**: salary (decimal, with a default value of 30,000)**\n",
        "\n",
        "\n",
        "**Write the SQL query to create the above table with all constraints.**\n",
        "\n",
        "\n",
        "Ans:- Certainly! Here's the SQL query to create your employees table with all the specified constraints, along with some emojis for a touch of fun! 🚀"
      ],
      "metadata": {
        "id": "vQR31PgcePHL"
      }
    },
    {
      "cell_type": "code",
      "source": [
        "     CREATE TABLE employees (\n",
        "    emp_id INTEGER PRIMARY KEY NOT NULL,         -- 🔑 Employee ID, unique and required\n",
        "    emp_name TEXT NOT NULL,                      -- 📝 Employee Name, required\n",
        "    age INTEGER CHECK (age >= 18),               -- 🎂 Age, must be 18 or older\n",
        "    email TEXT UNIQUE NOT NULL,                  -- 📧 Email, unique for each employee\n",
        "    salary DECIMAL DEFAULT 30000.00              -- 💰 Salary, defaults to 30,000\n",
        ");\n",
        ""
      ],
      "metadata": {
        "id": "pkBoO4hEeqMW"
      },
      "execution_count": 3,
      "outputs": []
    },
    {
      "cell_type": "markdown",
      "source": [
        "**Explanation of Constraints 🧐**\n",
        "\n",
        "- PRIMARY KEY: The emp_id column is set as the primary key. This means each emp_id must be unique and cannot be NULL, ensuring a consistent way to identify each employee.\n",
        "\n",
        "\n",
        "\n",
        "\n",
        "- NOT NULL: Both emp_id and emp_name are marked as NOT NULL, which ensures that these fields must always have a value when a new employee record is added.\n",
        "\n",
        "\n",
        "- CHECK (age >= 18): This constraint on the age column prevents any employee from being added if their age is less than 18, ensuring legal employment age.\n",
        "\n",
        "\n",
        "- UNIQUE: The email column has a UNIQUE constraint, which means no two employees can have the same email address. This is crucial for individual identification and communication.\n",
        "\n",
        "\n",
        "- DEFAULT 30000.00: The salary column has a DEFAULT value of 30000.00. If a salary is not explicitly provided when a new employee is added, it will automatically be set to this value.\n",
        "\n",
        "\n",
        "This table structure ensures data integrity and helps manage your employee records efficiently! 👍"
      ],
      "metadata": {
        "id": "DNJXeHrGhdZh"
      }
    },
    {
      "cell_type": "markdown",
      "source": [
        "**2. Explain the purpose of constraints and how they help maintain data integrity in a database. Provide**\n",
        "**examples of common types of constraints.**\n",
        "\n",
        "Ans:-  **Constraints** are rules applied to columns or tables in a database that limit the type of data that can be inserted, updated, or deleted. Their main purpose is to enforce data integrity 🛡️, which means ensuring the data is accurate, consistent, and reliable. By using constraints, you can prevent \"garbage in, garbage out\" scenarios and guarantee that the data adheres to predefined business rules. Instead of relying on application code to validate every data entry, constraints enforce these rules at the database level, ensuring they're always met, no matter how the data is being modified\n",
        "\n",
        "\n",
        "\n",
        "---\n",
        "\n",
        "\n",
        "**How Constraints Maintain Data Integrity**\n",
        "\n",
        "Constraints maintain data integrity by acting as a safeguard against bad data. They help in three key areas:\n",
        "\n",
        "- **Domain Integrity**: Constraints ensure that a column's values fall within a specific domain or set of valid entries. For example, a CHECK constraint can ensure that an employee's age is never a negative number.\n",
        "\n",
        "\n",
        "- **Entity Integrity**: This ensures that each row in a table is uniquely identified. It prevents duplicate records and ensures that a primary key value is never NULL, which is essential for referencing individual records.\n",
        "\n",
        "\n",
        "- **Referential Integrity**: This maintains the relationships between tables. A constraint can ensure that a record in one table (the \"child\" table) refers to a valid and existing record in another table (the \"parent\" table), preventing \"orphaned\" records.\n"
      ],
      "metadata": {
        "id": "oLyLaWhuh4Jn"
      }
    },
    {
      "cell_type": "markdown",
      "source": [
        "**3.Why would you apply the NOT NULL constraint to a column? Can a primary key contain NULL values? Justify**\n",
        "**your answer.**\n",
        "\n",
        "ANS:- You'd apply the NOT NULL constraint to a column when you want to ensure that every record in that column has a value, preventing it from being empty. This is crucial for maintaining data integrity 🛡️, as it guarantees that essential information is always present. For example, in an employees table, you'd apply a NOT NULL constraint to the first_name and last_name columns because an employee record is incomplete and not useful without these details. .\n",
        "\n",
        "\n",
        "\n",
        "---\n",
        "\n",
        "**A primary key cannot contain NULL values. 🙅‍♀️**\n",
        "\n",
        "The primary key serves as the unique identifier for each record in a table. It's the cornerstone of entity integrity 🔗, which requires that every row in a table can be uniquely and reliably identified. If a primary key were allowed to contain NULL values, it would be impossible to guarantee this uniqueness. A NULL value represents an unknown or missing value, and therefore cannot be used to uniquely identify a specific record. The very purpose of the primary key is to provide a non-ambiguous way to reference each row, and NULL values would directly contradict this fundamental principle.\n"
      ],
      "metadata": {
        "id": "iq6BqZM-i_1J"
      }
    },
    {
      "cell_type": "markdown",
      "source": [
        "**4. Explain the steps and SQL commands used to add or remove constraints on an existing table. Provide an**\n",
        "**example for both adding and removing a constraint.**\n",
        "\n",
        "Ans:-  **The SQL command** used to add or remove constraints on an existing table is ALTER TABLE 🛠️. This powerful command allows you to modify the structure of a table after it's been created, including adding new columns, dropping existing ones, and, most importantly, managing constraints.\n",
        "\n",
        "**Adding a Constraint ✨**\n",
        "To add a constraint, you use the ALTER TABLE statement followed by ADD CONSTRAINT. This is particularly useful when you've already populated a table and realize you need to enforce a new rule. The general syntax is:"
      ],
      "metadata": {
        "id": "LySDpj_HkiVA"
      }
    },
    {
      "cell_type": "code",
      "source": [
        "ALTER TABLE table_name\n",
        "ADD CONSTRAINT constraint_name constraint_type (column_name);"
      ],
      "metadata": {
        "id": "KSfy0cz3lGqK"
      },
      "execution_count": 3,
      "outputs": []
    },
    {
      "cell_type": "markdown",
      "source": [
        "**Example: Adding a UNIQUE constraint to an email column 📧**\n",
        "\n",
        "Let's say you have an employees table without an email constraint, and you want to ensure all emails are unique."
      ],
      "metadata": {
        "id": "rutlQvaLlJig"
      }
    },
    {
      "cell_type": "code",
      "source": [
        "-- First, make sure there are no duplicate emails already in the table.\n",
        "-- If there are, this command will fail.\n",
        "ALTER TABLE employees\n",
        "ADD CONSTRAINT uq_email UNIQUE (email);"
      ],
      "metadata": {
        "id": "5YMSj0f4lSN9"
      },
      "execution_count": null,
      "outputs": []
    },
    {
      "cell_type": "markdown",
      "source": [
        "In this example:\n",
        "\n",
        "\n",
        "\n",
        "\n",
        "\n",
        "ALTER TABLE employees specifies the table to be modified.\n",
        "\n",
        "ADD CONSTRAINT uq_email is the command to add a new constraint, and uq_email is a custom name you're giving to it for easy reference.\n",
        "\n",
        "UNIQUE (email) specifies the type of constraint and the column it applies to.\n",
        "\n",
        "\n",
        "---\n",
        "**Removing a Constraint ❌**\n",
        "\n",
        "To remove a constraint, you also use ALTER TABLE, but with the DROP CONSTRAINT clause. You must know the name of the constraint you want to drop. This is why it's a good practice to name your constraints when you add them.  The general syntax is:\n"
      ],
      "metadata": {
        "id": "c3g37q8Kldzv"
      }
    },
    {
      "cell_type": "code",
      "source": [
        "SQL\n",
        "\n",
        "ALTER TABLE table_name\n",
        "DROP CONSTRAINT constraint_name;"
      ],
      "metadata": {
        "id": "MfWFQqPvlu2y"
      },
      "execution_count": null,
      "outputs": []
    },
    {
      "cell_type": "markdown",
      "source": [
        "**Example: Removing the UNIQUE constraint from the email column 🗑️**\n",
        "\n",
        "Following the previous example, if you need to remove the unique email constraint (for instance, to allow for multiple employees to share a generic email address), you'd use the following command:"
      ],
      "metadata": {
        "id": "n5XCSM4blwRg"
      }
    },
    {
      "cell_type": "code",
      "source": [
        "SQL\n",
        "ALTER TABLE employees\n",
        "DROP CONSTRAINT uq_email;"
      ],
      "metadata": {
        "id": "GdT8QSDrl2YJ"
      },
      "execution_count": null,
      "outputs": []
    },
    {
      "cell_type": "markdown",
      "source": [
        "In this case, **DROP CONSTRAINT** uq_email tells the database to find and remove the constraint with that specific name from the employees table."
      ],
      "metadata": {
        "id": "CZWmeU1fl7ER"
      }
    },
    {
      "cell_type": "markdown",
      "source": [
        "**5. Explain the consequences of attempting to insert, update, or delete data in a way that violates constraints.**\n",
        "**Provide an example of an error message that might occur when violating a constraint.**\n",
        "\n",
        "Ans:-  Attempting to modify data in a way that violates a constraint results in an immediate failure 🚫 of the operation and an error message 🚨 being returned by the database management system. The database will reject the transaction entirely, preventing the invalid data from being stored and preserving the integrity and consistency of the data already in the table. This is the core purpose of constraints—to act as a gatekeeper, ensuring that only valid data enters the system.\n",
        "\n",
        "\n",
        "---\n",
        "\n",
        "**Consequences of Violating Constraints**\n",
        "\n",
        "Insertion Failures: If you try to INSERT a new row that violates a constraint, the entire row will be rejected. For example, trying to insert an employee with an age of 15 (when there's a CHECK (age >= 18) constraint) will cause the insertion to fail completely.\n",
        "\n",
        "Update Failures: If you try to UPDATE a row in a way that would violate a constraint, the change will not be applied. For instance, attempting to change an employee's salary to a negative number or their email to one that already exists would be blocked.\n",
        "\n",
        "Deletion Failures: This is most common with FOREIGN KEY constraints. If you try to DELETE a row from a \"parent\" table that is referenced by rows in a \"child\" table, the deletion will be blocked to prevent \"orphaned\" records. For example, you can't delete a customer record if there are still orders associated with that customer.\n",
        "\n",
        "\n",
        "**Example of a Violation Error Message**\n",
        "\n",
        "The error message you receive will be specific to the type of constraint you violated. Here’s a typical example for a UNIQUE constraint violation:\n",
        "\n",
        "Let's assume you have an employees table where the email column has a UNIQUE constraint.\n"
      ],
      "metadata": {
        "id": "My-AfbBKmDsD"
      }
    },
    {
      "cell_type": "code",
      "source": [
        "SQL\n",
        "\n",
        "-- This INSERT works because the email is unique\n",
        "INSERT INTO employees (emp_id, emp_name, email) VALUES (1, 'Alice', 'alice@company.com');\n",
        "\n",
        "-- This INSERT will fail because the email 'alice@company.com' already exists\n",
        "INSERT INTO employees (emp_id, emp_name, email) VALUES (2, 'Bob', 'ashishpal.com');"
      ],
      "metadata": {
        "id": "DxRXvJpsmt9v"
      },
      "execution_count": null,
      "outputs": []
    },
    {
      "cell_type": "markdown",
      "source": [
        "The database would immediately stop the second operation and return an error message similar to this:\n",
        "\n",
        "\n",
        "**ERROR:** duplicate key value violates unique constraint \"uq_email\"\n",
        "DETAIL:  Key (email)=(ashishpal.com) already exists.\n",
        "\n",
        "\n",
        "---\n",
        "\n",
        "**This error message is informative 💡. It clearly states:**\n",
        "\n",
        "- ERROR: duplicate key value: The specific type of error.\n",
        "\n",
        "- violates unique constraint \"uq_email\": The name of the constraint that was violated.\n",
        "\n",
        "- Key (email)=(alice@company.com) already exists: The exact value that caused the violation.\n",
        "\n",
        "This level of detail helps a developer understand exactly what went wrong and how to fix it, which is why error messages from database constraints are so valuable."
      ],
      "metadata": {
        "id": "E99v_L8TmyTG"
      }
    },
    {
      "cell_type": "markdown",
      "source": [
        "6. You created a products table without constraints as follows:\n",
        "\n",
        "CREATE TABLE products (\n",
        "\n",
        "    product_id INT,\n",
        "\n",
        "    product_name VARCHAR(50),\n",
        "\n",
        "    price DECIMAL(10, 2));\n",
        "\n",
        "    Now, you realise that\n",
        "- The product_id should be a primary key.\n",
        "\n",
        "- The price should have a default value of 50.00.\n",
        "\n",
        "\n",
        "Ans:-  **Here are the SQL commands** to modify the products table to add the specified constraints.\n",
        "\n",
        "Modifying the Products Table\n",
        "\n",
        "The ALTER TABLE command is used to add constraints to an existing table. You'll need two separate commands to add the primary key and the default value.\n",
        "\n",
        "**1. Add a Primary Key Constraint 🔑**\n",
        "\n",
        "To make product_id a primary key, you use the ADD PRIMARY KEY clause. This will enforce that all product_id values are unique and not null.\n",
        "\n",
        "\n"
      ],
      "metadata": {
        "id": "6NUGij_6nUqe"
      }
    },
    {
      "cell_type": "code",
      "source": [
        "SQL\n",
        " ALTER TABLE products\n",
        "ADD PRIMARY KEY (product_id);"
      ],
      "metadata": {
        "id": "f0EJF0P-pT_p"
      },
      "execution_count": null,
      "outputs": []
    },
    {
      "cell_type": "markdown",
      "source": [
        "**2. Set a Default Value for the Price 💰**\n",
        "\n",
        "To set a default value of 50.00 for the price column, you use the ALTER COLUMN clause with the SET DEFAULT option."
      ],
      "metadata": {
        "id": "Cd1BJvZMpZFe"
      }
    },
    {
      "cell_type": "code",
      "source": [
        "SQL\n",
        "ALTER TABLE products\n",
        "ALTER COLUMN price SET DEFAULT 50.00;"
      ],
      "metadata": {
        "id": "XNu7VArxpcW6"
      },
      "execution_count": null,
      "outputs": []
    },
    {
      "cell_type": "markdown",
      "source": [
        "After executing these two commands, your products table will have the following constraints:\n",
        "\n",
        "- product_id: Will be a primary key.\n",
        "\n",
        "- price: Will have a default value of 50.00."
      ],
      "metadata": {
        "id": "1J6LkOHQpild"
      }
    },
    {
      "cell_type": "markdown",
      "source": [
        "\n",
        "\n",
        "**7. You have two tables:**\n",
        "\n",
        "**HERE I CREATE OWN TABLE FROM USING PANDAS**"
      ],
      "metadata": {
        "id": "ocb_SSLmpmdT"
      }
    },
    {
      "cell_type": "code",
      "source": [
        "import pandas as pd\n",
        "\n",
        "students_data = {'student_id': [1, 2, 3],\n",
        "                'student_name': ['Alice', 'Bob', 'Charlie'],\n",
        "                'class_id': [101, 102, 101]}\n",
        "students_df = pd.DataFrame(students_data)\n",
        "print(\" \")\n",
        "classes_data = {'class_id': [101, 102, 103],\n",
        "               'class_name': ['Math', 'Science', 'History']}\n",
        "classes_df = pd.DataFrame(classes_data)\n",
        "\n",
        "print(\"Students Table:\")\n",
        "print(students_df.to_markdown(index=False))\n",
        "print(\"  \")\n",
        "print(\"  \")\n",
        "print(\"  \")\n",
        "print(\"\\nClasses Table:\")\n",
        "print(classes_df.to_markdown(index=False))\n"
      ],
      "metadata": {
        "colab": {
          "base_uri": "https://localhost:8080/"
        },
        "id": "lhFxE-M_wY0t",
        "outputId": "af965a62-5b67-4a9c-f427-32a0c8f125b8"
      },
      "execution_count": 8,
      "outputs": [
        {
          "output_type": "stream",
          "name": "stdout",
          "text": [
            " \n",
            "Students Table:\n",
            "|   student_id | student_name   |   class_id |\n",
            "|-------------:|:---------------|-----------:|\n",
            "|            1 | Alice          |        101 |\n",
            "|            2 | Bob            |        102 |\n",
            "|            3 | Charlie        |        101 |\n",
            "  \n",
            "  \n",
            "  \n",
            "\n",
            "Classes Table:\n",
            "|   class_id | class_name   |\n",
            "|-----------:|:-------------|\n",
            "|        101 | Math         |\n",
            "|        102 | Science      |\n",
            "|        103 | History      |\n"
          ]
        }
      ]
    },
    {
      "cell_type": "markdown",
      "source": [
        "To fetch the student_name and class_name for each student using an INNER JOIN, you'd typically need two tables: one for students and one for classes, with a common column to link them (like class_id).\n",
        "\n",
        "**Here's the SQL query:**"
      ],
      "metadata": {
        "id": "bMmEyyCXysxD"
      }
    },
    {
      "cell_type": "code",
      "source": [
        "SQL\n",
        "\n",
        "SELECT\n",
        "    s.student_name,\n",
        "    c.class_name\n",
        "FROM\n",
        "    students s\n",
        "INNER JOIN\n",
        "    classes c ON s.class_id = c.class_id;"
      ],
      "metadata": {
        "id": "lj6PGUj93wfh"
      },
      "execution_count": null,
      "outputs": []
    },
    {
      "cell_type": "markdown",
      "source": [
        "**Explanation 🧐**\n",
        "\n",
        "SELECT s.student_name, c.class_name: This specifies the columns you want to retrieve. s and c are aliases for the students and classes tables, respectively, making the query shorter and easier to read.\n",
        "\n",
        "- FROM students s: This indicates that you're starting the query with the students table and assigning it the alias s.\n",
        "\n",
        "- INNER JOIN classes c ON s.class_id = c.class_id: This is the core of the join operation.\n",
        "\n",
        "- INNER JOIN: This clause combines rows from two or more tables based on a related column between them. It returns only the rows that have matching values in both tables. Rows that don't have a match in the other table are excluded.\n",
        "\n",
        "- classes c: Specifies the second table to join (classes) and assigns it the alias c.\n",
        "\n",
        "- ON s.class_id = c.class_id: This is the join condition. It tells the database to match rows from the students table (s) with rows from the classes table (c) where the value in the class_id column is the same in both tables.\n",
        "\n",
        "This query effectively links each student to their respective class, returning a result set that includes both their name and their class name. 🧑‍🎓📚"
      ],
      "metadata": {
        "id": "UciUhWTI35Br"
      }
    },
    {
      "cell_type": "markdown",
      "source": [
        "**8. Consider the following three tables:**\n",
        "\n",
        "\n",
        "**HERE I CREATE OWN TABLE FROM USING PANDAS**"
      ],
      "metadata": {
        "id": "KkQVaeqY4nNP"
      }
    },
    {
      "cell_type": "code",
      "source": [
        "import pandas as pd\n",
        "import numpy as np\n",
        "\n",
        "orders_data = {'order_id': [1, 2, 3],\n",
        "               'order_date': ['2024-01-01', '2024-01-02', '2024-01-03'],\n",
        "               'customer_id': [101, 101, 102]}\n",
        "orders_df = pd.DataFrame(orders_data)\n",
        "print(\"Orders Table:\")\n",
        "print(orders_df.to_markdown(index=False))\n",
        "print(\"\\n\")\n",
        "\n",
        "\n",
        "Customers_data = {'customer_id':[101,102],\n",
        "                  'customer_name':['Alice', 'Bob']}\n",
        "Customers_df = pd.DataFrame(Customers_data)\n",
        "print('Customers Table:')\n",
        "print(Customers_df.to_markdown(index=False))\n",
        "print(\"\\n\")\n",
        "\n",
        "\n",
        "Product_data = {\n",
        "    'Product_id':[1,2],\n",
        "    'product_name':['Laptop','Phone'],\n",
        "    'order_id':[1,'NULL']\n",
        "}\n",
        "Product_df_original = pd.DataFrame(Product_data)\n",
        "print('Product Table (Original):')\n",
        "print(Product_df_original.to_markdown(index=False))\n"
      ],
      "metadata": {
        "colab": {
          "base_uri": "https://localhost:8080/"
        },
        "id": "3cQvUJkN4rM6",
        "outputId": "0d3ce408-d891-42a2-b6ad-73c28ac70655"
      },
      "execution_count": 31,
      "outputs": [
        {
          "output_type": "stream",
          "name": "stdout",
          "text": [
            "Orders Table:\n",
            "|   order_id | order_date   |   customer_id |\n",
            "|-----------:|:-------------|--------------:|\n",
            "|          1 | 2024-01-01   |           101 |\n",
            "|          2 | 2024-01-02   |           101 |\n",
            "|          3 | 2024-01-03   |           102 |\n",
            "\n",
            "\n",
            "Customers Table:\n",
            "|   customer_id | customer_name   |\n",
            "|--------------:|:----------------|\n",
            "|           101 | Alice           |\n",
            "|           102 | Bob             |\n",
            "\n",
            "\n",
            "Product Table (Original):\n",
            "|   Product_id | product_name   | order_id   |\n",
            "|-------------:|:---------------|:-----------|\n",
            "|            1 | Laptop         | 1          |\n",
            "|            2 | Phone          | NULL       |\n"
          ]
        }
      ]
    },
    {
      "cell_type": "markdown",
      "source": [
        "**Write a query that shows all order_id, customer_name, and product_name, ensuring that all products are**\n",
        "\n",
        "**listed even if they are not associated with an order**\n",
        "\n",
        "**Hint: (use INNER JOIN and LEFT JOIN)**\n",
        "\n",
        "\n",
        "**HERE I USE PYTHON CODE FOR SOLVING THIS QUESTION:**"
      ],
      "metadata": {
        "id": "yr6ji3Jo7wME"
      }
    },
    {
      "cell_type": "code",
      "source": [
        "import pandas as pd\n",
        "import numpy as np\n",
        "\n",
        "# Original DataFrames\n",
        "orders_data = {'order_id': [1, 2, 3],\n",
        "               'order_date': ['2024-01-01', '2024-01-02', '2024-01-03'],\n",
        "               'customer_id': [101, 101, 102]}\n",
        "orders_df = pd.DataFrame(orders_data)\n",
        "\n",
        "Customers_data = {'customer_id':[101,102],\n",
        "                  'customer_name':['Alice', 'Bob']}\n",
        "Customers_df = pd.DataFrame(Customers_data) # Renamed for clarity\n",
        "\n",
        "Product_data = {\n",
        "    'Product_id':[1,2],\n",
        "    'product_name':['Laptop','Phone'],\n",
        "    'order_id':[1,'NULL'] # Original 'NULL' as string\n",
        "}\n",
        "Product_df_original = pd.DataFrame(Product_data)\n",
        "\n",
        "# Pre-processing: Convert 'NULL' string to NaN in Product DataFrame for proper merging\n",
        "Product_df = Product_df_original.copy()\n",
        "Product_df['order_id'] = Product_df['order_id'].replace('NULL', np.nan).astype(float) # Convert to float to allow NaN\n",
        "\n",
        "# Display original tables\n",
        "print(\"Orders Table:\")\n",
        "print(orders_df.to_markdown(index=False))\n",
        "\n",
        "print(\"\\n\")\n",
        "\n",
        "print('Customers Table:')\n",
        "print(Customers_df.to_markdown(index=False))\n",
        "\n",
        "print(\"\\n\")\n",
        "\n",
        "print('Product Table (Original):')\n",
        "print(Product_df_original.to_markdown(index=False))\n",
        "\n",
        "print(\"\\n\")\n",
        "\n",
        "# --- Performing the Joins ---\n",
        "\n",
        "# Step 1: INNER JOIN orders_df with Customers_df\n",
        "# This links orders to customer names. We use an INNER JOIN because we only care\n",
        "# about orders that have a valid customer associated with them.\n",
        "orders_with_customers = pd.merge(orders_df, Customers_df, on='customer_id', how='inner')\n",
        "\n",
        "# Step 2: LEFT JOIN Product_df with the result from Step 1\n",
        "# We use Product_df as the LEFT DataFrame to ensure ALL products are listed,\n",
        "# even those (like the 'Phone') that don't have an 'order_id' or a matching order.\n",
        "# The `how='left'` ensures all rows from `Product_df` are kept.\n",
        "final_merged_df = pd.merge(Product_df, orders_with_customers[['order_id', 'customer_name']],\n",
        "                           on='order_id',\n",
        "                           how='left')\n",
        "\n",
        "# Select the required columns: order_id, customer_name, and product_name\n",
        "result_df = final_merged_df[['order_id', 'customer_name', 'product_name']]\n",
        "\n",
        "print('Resulting Query:')\n",
        "print(result_df.to_markdown(index=False))"
      ],
      "metadata": {
        "colab": {
          "base_uri": "https://localhost:8080/"
        },
        "id": "dEz9kc588nad",
        "outputId": "d43ea9d6-9f2a-479b-8c69-3407a53ef7e4"
      },
      "execution_count": 24,
      "outputs": [
        {
          "output_type": "stream",
          "name": "stdout",
          "text": [
            "Orders Table:\n",
            "|   order_id | order_date   |   customer_id |\n",
            "|-----------:|:-------------|--------------:|\n",
            "|          1 | 2024-01-01   |           101 |\n",
            "|          2 | 2024-01-02   |           101 |\n",
            "|          3 | 2024-01-03   |           102 |\n",
            "\n",
            "\n",
            "Customers Table:\n",
            "|   customer_id | customer_name   |\n",
            "|--------------:|:----------------|\n",
            "|           101 | Alice           |\n",
            "|           102 | Bob             |\n",
            "\n",
            "\n",
            "Product Table (Original):\n",
            "|   Product_id | product_name   | order_id   |\n",
            "|-------------:|:---------------|:-----------|\n",
            "|            1 | Laptop         | 1          |\n",
            "|            2 | Phone          | NULL       |\n",
            "\n",
            "\n",
            "Resulting Query:\n",
            "|   order_id | customer_name   | product_name   |\n",
            "|-----------:|:----------------|:---------------|\n",
            "|          1 | Alice           | Laptop         |\n",
            "|        nan | nan             | Phone          |\n"
          ]
        },
        {
          "output_type": "stream",
          "name": "stderr",
          "text": [
            "/tmp/ipython-input-992087300.py:23: FutureWarning: Downcasting behavior in `replace` is deprecated and will be removed in a future version. To retain the old behavior, explicitly call `result.infer_objects(copy=False)`. To opt-in to the future behavior, set `pd.set_option('future.no_silent_downcasting', True)`\n",
            "  Product_df['order_id'] = Product_df['order_id'].replace('NULL', np.nan).astype(float) # Convert to float to allow NaN\n"
          ]
        }
      ]
    },
    {
      "cell_type": "markdown",
      "source": [
        "**Explanation of the Query Steps 🚀**\n",
        "\n",
        "**Data Preparation:** We first create copies of your original DataFrames. Crucially, the order_id in the Product DataFrame is modified to replace the string 'NULL' with np.nan (a numerical \"Not a Number\") and converted to float. This ensures that pd.merge can correctly handle the missing order association when joining with the numeric order_id from the orders_df.\n",
        "\n",
        "**INNER JOIN Orders and Customers:**"
      ],
      "metadata": {
        "id": "A7dn8uuc-sCC"
      }
    },
    {
      "cell_type": "code",
      "source": [
        "orders_with_customers = pd.merge(orders_df, Customers_df, on='customer_id', how='inner')"
      ],
      "metadata": {
        "id": "OmAj2Tei-4OP"
      },
      "execution_count": 32,
      "outputs": []
    },
    {
      "cell_type": "markdown",
      "source": [
        "This step combines orders_df and Customers_df based on their common customer_id. An INNER JOIN is used because we only want to see orders that are actually linked to an existing customer. The result is a DataFrame containing order details along with the associated customer's name.\n",
        "\n",
        "**LEFT JOIN Products with Orders and Customers:**"
      ],
      "metadata": {
        "id": "uTY8zEVL-9Ga"
      }
    },
    {
      "cell_type": "code",
      "source": [
        "final_merged_df = pd.merge(Product_df, orders_with_customers[['order_id', 'customer_name']],\n",
        "                           on='order_id',\n",
        "                           how='left')"
      ],
      "metadata": {
        "id": "GwMyMcJG_B8a"
      },
      "execution_count": 33,
      "outputs": []
    },
    {
      "cell_type": "markdown",
      "source": [
        "Here, we take our prepared Product_df as the left DataFrame. We then LEFT JOIN it with a subset of orders_with_customers (just order_id and customer_name). The how='left' parameter is key: it guarantees that all rows from the Product_df **(our left table) are included in the final result.**\n",
        "\n",
        "For products that have a matching order_id (like 'Laptop'), their corresponding order_id and customer_name are pulled in from the orders_with_customers DataFrame.\n",
        "\n",
        "For products that do not have a matching order_id (like 'Phone', which has NaN), the order_id and customer_name columns in the joined result will show NaN, fulfilling the requirement to list all products even if they aren't associated with an order.\n",
        "\n",
        "\n",
        "\n",
        "**4.Selecting Final Columns:**"
      ],
      "metadata": {
        "id": "m2KVScXx_HZu"
      }
    },
    {
      "cell_type": "code",
      "source": [
        "result_df = final_merged_df[['order_id', 'customer_name', 'product_name']]"
      ],
      "metadata": {
        "id": "7HGiW_ux_bak"
      },
      "execution_count": 34,
      "outputs": []
    },
    {
      "cell_type": "markdown",
      "source": [
        "Finally, we select only the order_id, customer_name, and product_name columns as requested to form the desired output. 🎉"
      ],
      "metadata": {
        "id": "r7N3qL9S_gUK"
      }
    },
    {
      "cell_type": "markdown",
      "source": [
        "**9. Given the following tables:**\n",
        "\n",
        "**HERE I USE PYTHON CODE FOR  THIS QUESTION:**"
      ],
      "metadata": {
        "id": "4uryf_ek_mgl"
      }
    },
    {
      "cell_type": "code",
      "source": [
        "import pandas as pd\n",
        "Sales={\n",
        "    'sales_id':[1,2,3],\n",
        "    'product_id':[101,102,101],\n",
        "    'amount':[500,300,700]\n",
        "}\n",
        "Sales=pd.DataFrame(Sales)\n",
        "print(\" Sales :\")\n",
        "print(Sales.to_markdown(index=False))\n",
        "\n",
        "print(\"\\n\")\n",
        "\n",
        "\n",
        "\n",
        "Products={\n",
        "    'product_id':[101,102],\n",
        "    'product_name':['Laptop','Phone']\n",
        "}\n",
        "Products=pd.DataFrame(Products)\n",
        "print(\"Products :\")\n",
        "print(Products.to_markdown(index=False))\n",
        "\n",
        "print(\"\\n\")\n"
      ],
      "metadata": {
        "colab": {
          "base_uri": "https://localhost:8080/"
        },
        "id": "zjLqFx1iAE3q",
        "outputId": "85d25cb8-e1a4-4ba0-a81b-a0a0f63639da"
      },
      "execution_count": 40,
      "outputs": [
        {
          "output_type": "stream",
          "name": "stdout",
          "text": [
            " Sales :\n",
            "|   sales_id |   product_id |   amount |\n",
            "|-----------:|-------------:|---------:|\n",
            "|          1 |          101 |      500 |\n",
            "|          2 |          102 |      300 |\n",
            "|          3 |          101 |      700 |\n",
            "\n",
            "\n",
            "Products :\n",
            "|   product_id | product_name   |\n",
            "|-------------:|:---------------|\n",
            "|          101 | Laptop         |\n",
            "|          102 | Phone          |\n",
            "\n",
            "\n"
          ]
        }
      ]
    },
    {
      "cell_type": "markdown",
      "source": [
        "Write a query to find the total sales amount for each product using an INNER JOIN and the SUM() function.\n",
        "\n",
        "Ans:- Here's the **SQL** query to find the total sales amount for each product using an INNER JOIN and the SUM() function: 📊💰"
      ],
      "metadata": {
        "id": "kliWKMO5B0Dk"
      }
    },
    {
      "cell_type": "code",
      "source": [
        "SELECT\n",
        "    p.product_name,        -- 🏷️ Select the product name\n",
        "    SUM(s.amount) AS total_sales_amount -- 💲 Calculate the sum of sales for each product\n",
        "FROM\n",
        "    Sales s                 -- 📈 From the Sales table (aliased as 's')\n",
        "INNER JOIN\n",
        "    Products p ON s.product_id = p.product_id -- 🤝 Join with the Products table (aliased as 'p')\n",
        "GROUP BY\n",
        "    p.product_name          --  grouping by product name\n",
        "ORDER BY\n",
        "    total_sales_amount DESC; -- sort in descending order"
      ],
      "metadata": {
        "id": "u9JBq1MfCtA8"
      },
      "execution_count": null,
      "outputs": []
    },
    {
      "cell_type": "markdown",
      "source": [
        "   \n",
        "**Explanation 🧐**\n",
        "\n",
        "\n",
        "\n",
        "\n",
        "**1.SELECT**  .product_name, SUM(s.amount) AS total_sales_amount:\n",
        "\n",
        "- We select the product_name from the Products table (aliased as p) because we want to see the total sales for each named product.\n",
        "\n",
        "- SUM(s.amount) calculates the total of the amount column from the Sales table (aliased as s).\n",
        "\n",
        "- AS total_sales_amount gives this calculated sum a descriptive name in the result.\n",
        "\n",
        "\n",
        "**2.FROM Sales s:**\n",
        "\n",
        "- We start by specifying the Sales table as our primary table, giving it a short alias s.\n",
        "\n",
        "**3.INNER JOIN Products p ON s.product_id = p.product_id:**\n",
        "\n",
        "\n",
        "- An INNER JOIN combines rows from Sales and Products where there's a match in the product_id column in both tables. This ensures that only sales records that correspond to an existing product are considered.\n",
        "\n",
        "- Products p refers to the Products table with the alias p.\n",
        "\n",
        "- ON s.product_id = p.product_id is the join condition, linking sales records to their respective product details.\n",
        "\n",
        "**4.GROUP BY p.product_name:**\n",
        "\n",
        "- After joining, the GROUP BY clause is essential. It groups all the rows with the same product_name together. The SUM() function then calculates the total amount for each of these distinct product groups.\n",
        "\n",
        "**5.ORDER BY total_sales_amount DESC:**\n",
        "\n",
        "- This optional clause sorts the results, showing products with higher total sales first. 🏆\n",
        "\n"
      ],
      "metadata": {
        "id": "XgwQVfImC2PA"
      }
    },
    {
      "cell_type": "markdown",
      "source": [],
      "metadata": {
        "id": "7phDVQIHD_JQ"
      }
    },
    {
      "cell_type": "markdown",
      "source": [
        "**10. You are given three tables:**"
      ],
      "metadata": {
        "id": "E7vCiLV1EVEm"
      }
    },
    {
      "cell_type": "code",
      "source": [
        "import pandas as pd\n",
        "import numpy as np\n",
        "\n",
        "orders_data = {'order_id': [1, 2],\n",
        "               'order_date': ['2024-01-02', '2024-01-05'],\n",
        "               'customer_id': [1,2]}\n",
        "orders_df = pd.DataFrame(orders_data)\n",
        "print(\"Orders Table:\")\n",
        "print(orders_df.to_markdown(index=False))\n",
        "print(\"\\n\")\n",
        "print(\"\\n\")\n",
        "\n",
        "\n",
        "Customers_data = {'customer_id':[101,102],\n",
        "                  'customer_name':['Alice', 'Bob']}\n",
        "Customers_df = pd.DataFrame(Customers_data)\n",
        "print('Customers Table:')\n",
        "print(Customers_df.to_markdown(index=False))\n",
        "print(\"\\n\")\n",
        "print(\"\\n\")\n",
        "\n",
        "Order_details={\n",
        "    'order_id':[1,1,2],\n",
        "    'product_id':[101,102,101],\n",
        "    'quantity':[2,1,3]\n",
        "}\n",
        "Order_details=pd.DataFrame(Order_details)\n",
        "print(\"Oder_Details :\")\n",
        "print(Order_details.to_markdown(index=False))\n"
      ],
      "metadata": {
        "colab": {
          "base_uri": "https://localhost:8080/"
        },
        "id": "bk8_xLejEZVn",
        "outputId": "416e4f1f-31da-4dd3-fbe5-ecf63b37340f"
      },
      "execution_count": 45,
      "outputs": [
        {
          "output_type": "stream",
          "name": "stdout",
          "text": [
            "Orders Table:\n",
            "|   order_id | order_date   |   customer_id |\n",
            "|-----------:|:-------------|--------------:|\n",
            "|          1 | 2024-01-02   |             1 |\n",
            "|          2 | 2024-01-05   |             2 |\n",
            "\n",
            "\n",
            "\n",
            "\n",
            "Customers Table:\n",
            "|   customer_id | customer_name   |\n",
            "|--------------:|:----------------|\n",
            "|           101 | Alice           |\n",
            "|           102 | Bob             |\n",
            "\n",
            "\n",
            "\n",
            "\n",
            "Oder_Details :\n",
            "|   order_id |   product_id |   quantity |\n",
            "|-----------:|-------------:|-----------:|\n",
            "|          1 |          101 |          2 |\n",
            "|          1 |          102 |          1 |\n",
            "|          2 |          101 |          3 |\n"
          ]
        }
      ]
    },
    {
      "cell_type": "markdown",
      "source": [
        "**Write a query to display the order_id, customer_name, and the quantity of products ordered by each\n",
        "customer using an INNER JOIN between all three tables.**\n",
        "\n",
        "\n",
        "**Note - The above-mentioned questions don't require any dataset**\n",
        "\n",
        "\n",
        "Ans:- **Here's the SQL query** to display the order_id, customer_name, and the quantity of products ordered by each customer, using INNER JOIN across all three tables: 🛒🧑‍🤝‍🧑📦"
      ],
      "metadata": {
        "id": "oV-dVT17Ys8n"
      }
    },
    {
      "cell_type": "code",
      "source": [
        "SELECT\n",
        "    o.order_id,         -- 📦 The ID of the order\n",
        "    c.customer_name,    -- 👤 The name of the customer\n",
        "    od.quantity         -- #️⃣ The quantity of products in that order detail\n",
        "FROM\n",
        "    Orders o            -- Start with the Orders table (aliased as 'o')\n",
        "INNER JOIN\n",
        "    Customers c ON o.customer_id = c.customer_id -- 🤝 Link Orders to Customers by customer_id\n",
        "INNER JOIN\n",
        "    Oder_Details od ON o.order_id = od.order_id; -- 🔗 Link Orders to Order_Details by order_id"
      ],
      "metadata": {
        "id": "GEm975rhZSI-"
      },
      "execution_count": null,
      "outputs": []
    },
    {
      "cell_type": "markdown",
      "source": [
        "**Explanation 📝**\n",
        "\n",
        "**1.SELECT o.order_id, c.customer_name, od.quantity:**\n",
        "\n",
        "- This specifies the columns we want in our final result. We're getting the order_id from the Orders table (o), the customer_name from the Customers table (c), and the quantity from the Oder_Details table (od).\n",
        "\n",
        "\n",
        "**2.FROM Orders o:**\n",
        "\n",
        "- We begin our query from the Orders table, giving it a shorthand alias o for brevity.\n",
        "\n",
        "**3.INNER JOIN Customers c ON o.customer_id = c.customer_id:**\n",
        "\n",
        "- The first INNER JOIN connects the Orders table with the Customers table.\n",
        "\n",
        "- The ON o.customer_id = c.customer_id condition ensures that only orders that have a matching customer_id in the Customers table are included. This links each order to the specific customer who placed it.\n",
        "\n",
        "\n",
        "**4.INNER JOIN Oder_Details od ON o.order_id = od.order_id:**\n",
        "\n",
        "- The second INNER JOIN then connects the result of the previous join with the Oder_Details table.\n",
        "\n",
        "- The ON o.order_id = od.order_id condition matches the orders with their specific product details (which include the quantity). This step ensures that for each order, we can see the individual products ordered and their respective quantities.\n",
        "\n",
        "\n",
        "By chaining these INNER JOIN operations, we effectively bring together relevant information from all three tables, providing a comprehensive view of customer orders and product quantities. 👍"
      ],
      "metadata": {
        "id": "q3J8JtLTZZSV"
      }
    },
    {
      "cell_type": "markdown",
      "source": [],
      "metadata": {
        "id": "rond1dSKaJoL"
      }
    },
    {
      "cell_type": "markdown",
      "source": [
        "# SQL Commands"
      ],
      "metadata": {
        "id": "0swCQj7Bzwy-"
      }
    },
    {
      "cell_type": "markdown",
      "source": [
        "\n",
        "\n",
        "**1-Identify the primary keys and foreign keys in maven movies db. Discuss the differences**\n",
        "\n",
        "Ans:- **Maven Movies Database Keys 🔑**\n",
        "\n",
        "The Maven Movies database uses a combination of primary and foreign keys to define relationships between its tables and maintain data integrity.\n",
        "\n",
        "**Primary Keys (PK)**\n",
        "\n",
        "A primary key is a column or a set of columns that uniquely identifies each row in a table. It's like a unique ID card for every record. It must contain unique values and cannot be NULL.\n",
        "\n",
        "\n",
        "- actor table: actor_id\n",
        "\n",
        "- address table: address_id\n",
        "\n",
        "- category table: category_id\n",
        "\n",
        "- city table: city_id\n",
        "\n",
        "**Foreign Keys (FK)**\n",
        "\n",
        "A foreign key is a column or a set of columns in one table that references the primary key of another table. Its purpose is to link tables and enforce referential integrity 🔗. This ensures that the data in the foreign key column always corresponds to a valid record in the primary key table.\n",
        "\n",
        "- address table: city_id (refers to city.city_id)\n",
        "\n",
        "- city table: country_id (refers to country.country_id)\n",
        "\n",
        "- customer table: store_id (refers to store.store_id), address_id (refers to address.address_id)\n",
        "\n",
        "- film table: language_id (refers to language.language_id), original_language_id (refers to language.language_id)\n",
        "\n"
      ],
      "metadata": {
        "id": "oTxkO7nHafhW"
      }
    },
    {
      "cell_type": "markdown",
      "source": [
        "**2- List all details of actors**\n",
        "\n",
        "Here's the query to list all details of actors from the actor table. 🎬✨"
      ],
      "metadata": {
        "id": "c_t-w9NMbghI"
      }
    },
    {
      "cell_type": "code",
      "source": [
        "SELECT\n",
        "    * -- 📝 The asterisk selects all columns\n",
        "FROM\n",
        "    actor; -- 🎭 From the actor table"
      ],
      "metadata": {
        "id": "B69y3tWMnKW1"
      },
      "execution_count": null,
      "outputs": []
    },
    {
      "cell_type": "markdown",
      "source": [
        "**3 -List all customer information from DB**\n",
        "\n",
        "Ans:- Here's the query to list all customer information from the customer table. 🧑‍🤝‍🧑✨"
      ],
      "metadata": {
        "id": "lMJ5Mtv8nM-A"
      }
    },
    {
      "cell_type": "code",
      "source": [
        "SELECT\n",
        "    * -- 📝 The asterisk selects all columns\n",
        "FROM\n",
        "    customer; -- 🧑‍🤝‍🧑 From the customer table"
      ],
      "metadata": {
        "id": "bUyLlfZGny9J"
      },
      "execution_count": null,
      "outputs": []
    },
    {
      "cell_type": "markdown",
      "source": [
        "**4 -List different countries.**\n",
        "\n",
        "Ans:-To get a list of all different countries from the Maven Movies database, you'll need to query the country table. 🗺️\n",
        "\n",
        "**Here's the SQL query:**"
      ],
      "metadata": {
        "id": "goJUPARLn4xI"
      }
    },
    {
      "cell_type": "code",
      "source": [
        "SELECT\n",
        "    country -- 🗺️ Select the country name\n",
        "FROM\n",
        "    country; -- 🌎 From the country table"
      ],
      "metadata": {
        "id": "62HRyxdaoHIY"
      },
      "execution_count": null,
      "outputs": []
    },
    {
      "cell_type": "markdown",
      "source": [
        "**5 -Display all active customers**\n",
        "\n",
        "Ans:- To display all active customers, you'll need to query the customer table and filter the results where the active column is set to 1 (or True, depending on the data type). 🟢\n",
        "\n",
        "**Here's the SQL query:**"
      ],
      "metadata": {
        "id": "ZDHWOQbpoJtc"
      }
    },
    {
      "cell_type": "code",
      "source": [
        "SELECT\n",
        "    * -- 📝 Select all columns\n",
        "FROM\n",
        "    customer -- 🧑‍🤝‍🧑 From the customer table\n",
        "WHERE\n",
        "    active = 1; -- ✅ Where the customer is active"
      ],
      "metadata": {
        "id": "eiIUFLIioWei"
      },
      "execution_count": null,
      "outputs": []
    },
    {
      "cell_type": "markdown",
      "source": [
        "**6 -List of all rental IDs for customer with ID 1.**\n",
        "\n",
        "Ans:- To get all rental IDs for a customer with ID 1, you'll need to query the rental table and filter by customer_id. 🎬\n",
        "\n",
        "**Here is the SQL query:**\n",
        "\n"
      ],
      "metadata": {
        "id": "yHzY64qIobK3"
      }
    },
    {
      "cell_type": "code",
      "source": [
        "SELECT\n",
        "    rental_id -- 🔑 Select the rental ID\n",
        "FROM\n",
        "    rental -- 📦 From the rental table\n",
        "WHERE\n",
        "    customer_id = 1; -- 🧑‍🤝‍🧑 For customer with ID 1"
      ],
      "metadata": {
        "id": "OuOQUEavopSb"
      },
      "execution_count": null,
      "outputs": []
    },
    {
      "cell_type": "markdown",
      "source": [
        "**7 - Display all the films whose rental duration is greater than 5 .**\n",
        "\n",
        "Ans:- To display all films with a rental duration greater than 5, you'll need to query the film table and use a WHERE clause to filter the results. 🎞️\n",
        "\n",
        "**Here is the SQL query:**"
      ],
      "metadata": {
        "id": "vWEyBqUqosWh"
      }
    },
    {
      "cell_type": "code",
      "source": [
        "SELECT\n",
        "    * -- 📝 Select all columns to see full film details\n",
        "FROM\n",
        "    film -- 🎥 From the film table\n",
        "WHERE\n",
        "    rental_duration > 5; -- ⏳ Filter for films with rental duration greater than 5"
      ],
      "metadata": {
        "id": "gkFl75zQo4W3"
      },
      "execution_count": null,
      "outputs": []
    },
    {
      "cell_type": "markdown",
      "source": [
        "**8 - List the total number of films whose replacement cost is greater than $15 and less than $20.**\n",
        "\n",
        "Ans:- To find the total number of films whose replacement cost is greater than $15 and less than $20, you'll need to use the COUNT() function with a WHERE clause that includes a range. 💰🎬\n",
        "\n",
        "**Here is the SQL query:**"
      ],
      "metadata": {
        "id": "AFcA9c2Mo7AB"
      }
    },
    {
      "cell_type": "code",
      "source": [
        "SELECT\n",
        "    COUNT(*) -- 🔢 Count all films that meet the criteria\n",
        "FROM\n",
        "    film -- 🎥 From the film table\n",
        "WHERE\n",
        "    replacement_cost > 15 AND replacement_cost < 20; -- 💲 Filter for the specified cost range"
      ],
      "metadata": {
        "id": "T2b1l9lUpHxc"
      },
      "execution_count": null,
      "outputs": []
    },
    {
      "cell_type": "markdown",
      "source": [
        "**9 - Display the count of unique first names of actors.**\n",
        "\n",
        "Ans:- To count the number of unique first names of actors, you'll need to use the COUNT() function with the DISTINCT keyword on the first_name column in the actor table. 📝\n",
        "\n",
        "**Here is the SQL query:**"
      ],
      "metadata": {
        "id": "7moSfGorpLcy"
      }
    },
    {
      "cell_type": "code",
      "source": [
        "SELECT\n",
        "    COUNT(DISTINCT first_name) AS unique_first_names_count -- 🔢 Count unique first names\n",
        "FROM\n",
        "    actor; -- 🎭 From the actor table"
      ],
      "metadata": {
        "id": "sDBLVW0npXbT"
      },
      "execution_count": null,
      "outputs": []
    },
    {
      "cell_type": "markdown",
      "source": [
        "**10- Display the first 10 records from the customer table .**\n",
        "\n",
        "Ans:- To display the first 10 records from the customer table, you can use the LIMIT clause in your SQL query. 🔟\n",
        "\n",
        "**Here's the SQL query: **"
      ],
      "metadata": {
        "id": "rrZIMnc8paFH"
      }
    },
    {
      "cell_type": "code",
      "source": [
        "SELECT\n",
        "    * -- 📝 Select all columns\n",
        "FROM\n",
        "    customer -- 🧑‍🤝‍🧑 From the customer table\n",
        "LIMIT 10; -- ➡️ Limit the result to the first 10 records"
      ],
      "metadata": {
        "id": "UIQxI0Uopqi2"
      },
      "execution_count": null,
      "outputs": []
    },
    {
      "cell_type": "markdown",
      "source": [
        "**11 - Display the first 3 records from the customer table whose first name starts with ‘b’.**\n",
        "\n",
        "Ans:-To display the first 3 records from the customer table where the first name starts with ‘b’, you can use the WHERE clause with the LIKE operator and a LIMIT clause. 🅱️\n",
        "\n",
        "**Here is the SQL query:**"
      ],
      "metadata": {
        "id": "DF61e3G8puRQ"
      }
    },
    {
      "cell_type": "code",
      "source": [
        "SELECT\n",
        "    * -- 📝 Select all columns\n",
        "FROM\n",
        "    customer -- 🧑‍🤝‍🧑 From the customer table\n",
        "WHERE\n",
        "    first_name LIKE 'B%' -- 🔍 Filter for first names that start with 'B'\n",
        "LIMIT 3; -- ➡️ Limit the result to the first 3 records"
      ],
      "metadata": {
        "id": "udiKYbPAqKVS"
      },
      "execution_count": null,
      "outputs": []
    },
    {
      "cell_type": "markdown",
      "source": [
        "**12 -Display the names of the first 5 movies which are rated as ‘G’.**\n",
        "\n",
        "Ans:- Here's the SQL query to display the names of the first 5 movies with a 'G' rating. 🎬🌟"
      ],
      "metadata": {
        "id": "vRfxwTrzqM2N"
      }
    },
    {
      "cell_type": "code",
      "source": [
        "SELECT\n",
        "    title -- 🎥 Select the movie title\n",
        "FROM\n",
        "    film -- 🎞️ From the film table\n",
        "WHERE\n",
        "    rating = 'G' -- 👶 Filter for movies with a 'G' rating\n",
        "LIMIT 5; -- 🔟 Limit the result to the first 5 movies"
      ],
      "metadata": {
        "id": "8DBtR9LyqWYz"
      },
      "execution_count": null,
      "outputs": []
    },
    {
      "cell_type": "markdown",
      "source": [
        "**13-Find all customers whose first name starts with \"a\".**\n",
        "\n",
        "Ans:- To find all customers whose first name starts with \"a\", you can use the LIKE operator with a wildcard character. 🔍\n",
        "\n",
        "**Here is the SQL query:**"
      ],
      "metadata": {
        "id": "15zcYLBoqY3x"
      }
    },
    {
      "cell_type": "code",
      "source": [
        "SELECT\n",
        "    * -- 📝 Select all customer details\n",
        "FROM\n",
        "    customer -- 🧑‍🤝‍🧑 From the customer table\n",
        "WHERE\n",
        "    first_name LIKE 'A%'; -- 🅰️ Filter for names that begin with 'A'"
      ],
      "metadata": {
        "id": "sMBEltN-qjIk"
      },
      "execution_count": null,
      "outputs": []
    },
    {
      "cell_type": "markdown",
      "source": [
        "**14- Find all customers whose first name ends with \"a\".**\n",
        "\n",
        "Ans:- To find all customers whose first name ends with \"a\", you can use the LIKE operator with a wildcard character. 🔍\n",
        "\n",
        "**Here is the SQL query:**"
      ],
      "metadata": {
        "id": "tMfZWGUOqm64"
      }
    },
    {
      "cell_type": "code",
      "source": [
        "SELECT\n",
        "    * -- 📝 Select all customer details\n",
        "FROM\n",
        "    customer -- 🧑‍🤝‍🧑 From the customer table\n",
        "WHERE\n",
        "    first_name LIKE '%a'; -- 🅰️ Filter for names that end with 'a'"
      ],
      "metadata": {
        "id": "-6hpsM5Sqx2V"
      },
      "execution_count": null,
      "outputs": []
    },
    {
      "cell_type": "markdown",
      "source": [
        "**15- Display the list of first 4 cities which start and end with ‘a’ .**\n",
        "\n",
        "Ans:- To display the first 4 cities that start and end with 'a', you can use the LIKE operator with a wildcard character and a LIMIT clause. 🏙️\n",
        "\n",
        "**Here is the SQL query:**"
      ],
      "metadata": {
        "id": "1xUqW-0Dq0eM"
      }
    },
    {
      "cell_type": "code",
      "source": [
        "SELECT\n",
        "    city -- 🌆 Select the city name\n",
        "FROM\n",
        "    city -- 🗺️ From the city table\n",
        "WHERE\n",
        "    city LIKE 'a%a' -- 🔍 Filter for cities that start and end with 'a'\n",
        "LIMIT 4; -- ➡️ Limit the result to the first 4 cities"
      ],
      "metadata": {
        "id": "NYzjOVfqq_Gq"
      },
      "execution_count": null,
      "outputs": []
    },
    {
      "cell_type": "markdown",
      "source": [
        "**16- Find all customers whose first name have \"NI\" in any position.**\n",
        "\n",
        "Ans:- To find all customers whose first name contains \"NI\" in any position, you'll use the LIKE operator with wildcard characters on both sides of the string. 🔍\n",
        "\n",
        "**Here is the SQL query:**"
      ],
      "metadata": {
        "id": "3zK3ga-YrBWU"
      }
    },
    {
      "cell_type": "markdown",
      "source": [
        "SELECT\n",
        "    * -- 📝 Select all customer details\n",
        "FROM\n",
        "    customer -- 🧑‍🤝‍🧑 From the customer table\n",
        "WHERE\n",
        "    first_name LIKE '%NI%'; -- 🔍 Filter for names containing 'NI' anywhere"
      ],
      "metadata": {
        "id": "b80J_-4krOnu"
      }
    },
    {
      "cell_type": "markdown",
      "source": [
        "**17- Find all customers whose first name have \"r\" in the second position .**\n",
        "\n",
        "Ans:- To find all customers whose first name has an \"r\" in the second position, you'll use the LIKE operator with the underscore _ and percentage % wildcards. 🔍\n",
        "\n",
        "**Here is the SQL query:**"
      ],
      "metadata": {
        "id": "cg4CcPAKrRBD"
      }
    },
    {
      "cell_type": "code",
      "source": [
        "SELECT\n",
        "    * -- 📝 Select all customer details\n",
        "FROM\n",
        "    customer -- 🧑‍🤝‍🧑 From the customer table\n",
        "WHERE\n",
        "    first_name LIKE '_r%'; -- 🔍 Filter for names with 'r' in the second position"
      ],
      "metadata": {
        "id": "P_xwOoqQrcjJ"
      },
      "execution_count": null,
      "outputs": []
    },
    {
      "cell_type": "markdown",
      "source": [
        "**18 - Find all customers whose first name starts with \"a\" and are at least 5 characters in length.**\n",
        "\n",
        "Ans:- To find all customers whose first name starts with \"a\" and has at least 5 characters, you can use the LIKE operator with the _ (underscore) and % (percentage) wildcards. 🔍\n",
        "\n",
        "**Here is the SQL query:**"
      ],
      "metadata": {
        "id": "IKoIH-XSre5G"
      }
    },
    {
      "cell_type": "code",
      "source": [
        "SELECT\n",
        "    * -- 📝 Select all customer details\n",
        "FROM\n",
        "    customer -- 🧑‍🤝‍🧑 From the customer table\n",
        "WHERE\n",
        "    first_name LIKE 'A____%'; -- 🅰️ Filter for names starting with 'A' and at least 5 characters long"
      ],
      "metadata": {
        "id": "W_fDo1y9rqAg"
      },
      "execution_count": null,
      "outputs": []
    },
    {
      "cell_type": "markdown",
      "source": [
        "**19- Find all customers whose first name starts with \"a\" and ends with \"o\".**\n",
        "\n",
        "\n",
        "Ans:- To find all customers whose first name starts with \"a\" and ends with \"o\", you'll use the LIKE operator with a wildcard pattern. 🔍\n",
        "\n",
        "**Here is the SQL query:**"
      ],
      "metadata": {
        "id": "wquFmoZIrslT"
      }
    },
    {
      "cell_type": "code",
      "source": [
        "SELECT\n",
        "    * -- 📝 Select all customer details\n",
        "FROM\n",
        "    customer -- 🧑‍🤝‍🧑 From the customer table\n",
        "WHERE\n",
        "    first_name LIKE 'A%o'; -- 🅰️ Filter for names that begin with 'A' and end with 'o'"
      ],
      "metadata": {
        "id": "3igqFouJr29u"
      },
      "execution_count": null,
      "outputs": []
    },
    {
      "cell_type": "markdown",
      "source": [
        "**20 - Get the films with pg and pg-13 rating using IN operator.**\n",
        "\n",
        "\n",
        "Ans:- To get the films with a rating of 'PG' or 'PG-13', you can use the IN operator. It's a clean way to check for multiple values in a single column without writing multiple OR conditions. 🎬\n",
        "\n",
        "**Here's the SQL query:**"
      ],
      "metadata": {
        "id": "KX-0-OuSr5pt"
      }
    },
    {
      "cell_type": "code",
      "source": [
        "SELECT\n",
        "    * -- 📝 Select all film details\n",
        "FROM\n",
        "    film -- 🎞️ From the film table\n",
        "WHERE\n",
        "    rating IN ('PG', 'PG-13'); -- 📋 Filter for films with a 'PG' or 'PG-13' rating"
      ],
      "metadata": {
        "id": "2OIjwwXjsD3e"
      },
      "execution_count": null,
      "outputs": []
    },
    {
      "cell_type": "markdown",
      "source": [
        "**21 - Get the films with length between 50 to 100 using between operator.**\n",
        "\n",
        "Ans:- To get the films with a length between 50 and 100 minutes (inclusive), you can use the BETWEEN operator. 🎞️⏱️\n",
        "\n",
        "**Here is the SQL query:**"
      ],
      "metadata": {
        "id": "2qCjGQA7sHR5"
      }
    },
    {
      "cell_type": "code",
      "source": [
        "SELECT\n",
        "    * -- 📝 Select all film details\n",
        "FROM\n",
        "    film -- 🎥 From the film table\n",
        "WHERE\n",
        "    length BETWEEN 50 AND 100; -- 📏 Filter for films with a length between 50 and 100 minutes"
      ],
      "metadata": {
        "id": "zZ_linXHsS0-"
      },
      "execution_count": null,
      "outputs": []
    },
    {
      "cell_type": "markdown",
      "source": [
        "**22 - Get the top 50 actors using limit operator.**\n",
        "\n",
        "\n",
        "Ans:- To get the top 50 actors, you can use the LIMIT operator. It's a simple way to restrict the number of rows returned by your query. 🎭🌟\n",
        "\n",
        "**Here's the SQL query:**"
      ],
      "metadata": {
        "id": "R07tjJm9sXd8"
      }
    },
    {
      "cell_type": "code",
      "source": [
        "SELECT\n",
        "    * -- 📝 Select all columns for the actors\n",
        "FROM\n",
        "    actor -- 🧑‍🤝‍🧑 From the actor table\n",
        "LIMIT 50; -- ➡️ Limit the result to the first 50 records"
      ],
      "metadata": {
        "id": "UGk4f1_6shOO"
      },
      "execution_count": null,
      "outputs": []
    },
    {
      "cell_type": "markdown",
      "source": [
        "**23 - Get the distinct film ids from inventory table.**\n",
        "\n",
        "Ans:- To get the distinct film IDs from the inventory table, you should use the DISTINCT keyword on the film_id column. 🎞️\n",
        "\n",
        "**Here's the SQL query:**"
      ],
      "metadata": {
        "id": "S-sQg7hZskXY"
      }
    },
    {
      "cell_type": "code",
      "source": [
        "SELECT DISTINCT\n",
        "    film_id -- 🎬 Select only unique film IDs\n",
        "FROM\n",
        "    inventory; -- 📦 From the inventory table"
      ],
      "metadata": {
        "id": "ABZ-GqQjsxyq"
      },
      "execution_count": null,
      "outputs": []
    },
    {
      "cell_type": "markdown",
      "source": [
        "\n",
        "# Functions"
      ],
      "metadata": {
        "id": "hsoB0706zTJs"
      }
    },
    {
      "cell_type": "markdown",
      "source": [
        "\n",
        "\n",
        "**Question 1:\n",
        "Retrieve the total number of rentals made in the Sakila database.**\n",
        "\n",
        "**Hint: Use the COUNT() function.**\n",
        "\n",
        "Ans:-"
      ],
      "metadata": {
        "id": "c49XACMzt2gC"
      }
    },
    {
      "cell_type": "code",
      "source": [
        "SELECT COUNT(*) FROM rental;"
      ],
      "metadata": {
        "id": "S8apoD1evExQ"
      },
      "execution_count": null,
      "outputs": []
    },
    {
      "cell_type": "markdown",
      "source": [
        "**2.Find the average rental duration (in days) of movies rented from the Sakila database.**\n",
        "\n",
        "**Hint: Utilize the AVG() function.**\n",
        "\n",
        "Ans:- To find the average rental duration of movies, you need to use the film table, as it contains the rental_duration column. The AVG() function will calculate the average for you. ⏱️\n",
        "\n",
        "**Here's the SQL query:**"
      ],
      "metadata": {
        "id": "Gc8SNBM1vF8-"
      }
    },
    {
      "cell_type": "code",
      "source": [
        "SELECT\n",
        "    AVG(rental_duration)\n",
        "FROM\n",
        "    film;"
      ],
      "metadata": {
        "id": "qniOvr2ovYh7"
      },
      "execution_count": null,
      "outputs": []
    },
    {
      "cell_type": "markdown",
      "source": [
        "**3.Display the first name and last name of customers in uppercase.**\n",
        "\n",
        "**Hint: Use the UPPER () function.**\n",
        "\n",
        "Ans:- To display the first and last names of customers in uppercase, you'll use the UPPER() function in your query on the customer table. 🗣️\n",
        "\n",
        "**Here's the SQL query:**"
      ],
      "metadata": {
        "id": "V3EhqYrMvb9N"
      }
    },
    {
      "cell_type": "code",
      "source": [
        "SELECT\n",
        "    UPPER(first_name),\n",
        "    UPPER(last_name)\n",
        "FROM\n",
        "    customer;"
      ],
      "metadata": {
        "id": "5_JZA-fIvtiM"
      },
      "execution_count": null,
      "outputs": []
    },
    {
      "cell_type": "markdown",
      "source": [
        "**4.Extract the month from the rental date and display it alongside the rental ID.**\n",
        "\n",
        "**Hint: Employ the MONTH() function.**\n",
        "\n",
        "Ans:- To extract the month from the rental date and display it alongside the rental ID, you'll need to query the rental table and use the MONTH() function. 🗓️\n",
        "\n",
        "**Here is the SQL query:**"
      ],
      "metadata": {
        "id": "S1lfZq3Lvv9M"
      }
    },
    {
      "cell_type": "code",
      "source": [
        "SELECT\n",
        "    rental_id,\n",
        "    MONTH(rental_date) AS rental_month\n",
        "FROM\n",
        "    rental;"
      ],
      "metadata": {
        "id": "4SH1858Wv_Iz"
      },
      "execution_count": null,
      "outputs": []
    },
    {
      "cell_type": "markdown",
      "source": [
        "**5.Retrieve the count of rentals for each customer (display customer ID and the count of rentals).**\n",
        "\n",
        "**Hint: Use COUNT () in conjunction with GROUP BY.**\n",
        "\n",
        "\n",
        "Ans:- To retrieve the count of rentals for each customer, you'll need to join the customer table with the rental table. However, since the user is only asking for the count of rentals per customer ID, a simple aggregation on the rental table is sufficient.\n",
        "\n",
        "**Here's the SQL query: 🧑‍🤝‍🧑🎬**"
      ],
      "metadata": {
        "id": "uFaPpV7owBnO"
      }
    },
    {
      "cell_type": "code",
      "source": [
        "SELECT\n",
        "    customer_id,        -- 🔑 Select the customer ID\n",
        "    COUNT(rental_id) AS rental_count -- 🔢 Count the number of rentals for each customer\n",
        "FROM\n",
        "    rental              -- 📦 From the rental table\n",
        "GROUP BY\n",
        "    customer_id;        -- 🧑‍🤝‍🧑 Group the results by customer ID"
      ],
      "metadata": {
        "id": "ROZMZjhgwg0P"
      },
      "execution_count": null,
      "outputs": []
    },
    {
      "cell_type": "markdown",
      "source": [
        "**6.Find the total revenue generated by each store.\n",
        "Hint: Combine SUM() and GROUP BY**\n",
        "\n",
        "Ans:- To find the total revenue generated by each store, you'll need to join the payment and store tables. Then, you'll use the SUM() function on the amount column and group the results by store_id. 💰🛍️\n",
        "\n",
        "**Here is the SQL query:**"
      ],
      "metadata": {
        "id": "rzX7IUqAwqlG"
      }
    },
    {
      "cell_type": "code",
      "source": [
        "SELECT\n",
        "    s.store_id,\n",
        "    SUM(p.amount) AS total_revenue\n",
        "FROM\n",
        "    store s\n",
        "JOIN\n",
        "    staff st ON s.manager_staff_id = st.staff_id\n",
        "JOIN\n",
        "    payment p ON st.store_id = p.store_id\n",
        "GROUP BY\n",
        "    s.store_id;"
      ],
      "metadata": {
        "id": "-x-Fkl41w-Pv"
      },
      "execution_count": null,
      "outputs": []
    },
    {
      "cell_type": "markdown",
      "source": [
        "**7.Determine the total number of rentals for each category of movies.**\n",
        "\n",
        "**Hint: JOIN film_category, film, and rental tables, then use cOUNT () and GROUP BY**\n",
        "\n",
        "Ans:-  To determine the total number of rentals for each movie category, you'll need to join three tables: film_category, inventory, and rental. 🎬📊\n",
        "\n",
        "**Here is the SQL query to accomplish this**"
      ],
      "metadata": {
        "id": "kV0vj9hHxA-y"
      }
    },
    {
      "cell_type": "code",
      "source": [
        "SELECT\n",
        "    c.name AS category_name,       -- 🏷️ Select the category name\n",
        "    COUNT(r.rental_id) AS rental_count -- 🔢 Count the number of rentals for each category\n",
        "FROM\n",
        "    category c                     -- From the category table (aliased as 'c')\n",
        "INNER JOIN\n",
        "    film_category fc ON c.category_id = fc.category_id -- 🤝 Link categories to films\n",
        "INNER JOIN\n",
        "    inventory i ON fc.film_id = i.film_id             -- 🔗 Link films to inventory\n",
        "INNER JOIN\n",
        "    rental r ON i.inventory_id = r.inventory_id         -- 📦 Link inventory to rentals\n",
        "GROUP BY\n",
        "    c.name                         -- 🗂️ Group the results by category name\n",
        "ORDER BY\n",
        "    rental_count DESC;             -- 🔽 Sort by the count of rentals in descending order"
      ],
      "metadata": {
        "id": "Y7Dm4hXVxT_K"
      },
      "execution_count": null,
      "outputs": []
    },
    {
      "cell_type": "markdown",
      "source": [
        "**8.Find the average rental rate of movies in each language.**\n",
        "\n",
        "**Hint: JOIN film and language tables, then use AVG () and GROUP BY.**\n",
        "\n",
        "Ans:- To find the average rental rate of movies in each language, you'll need to join the film and language tables. 🗣️🎬 You'll then use the AVG() function on the rental_rate column and group the results by the language name.\n",
        "\n",
        "**Here is the SQL query:**"
      ],
      "metadata": {
        "id": "EM21n7DkxWwP"
      }
    },
    {
      "cell_type": "code",
      "source": [
        "SELECT\n",
        "    l.name AS language,         -- 🗣️ Select the language name\n",
        "    AVG(f.rental_rate) AS average_rental_rate -- 💲 Calculate the average rental rate for each language\n",
        "FROM\n",
        "    film f                     -- From the film table (aliased as 'f')\n",
        "INNER JOIN\n",
        "    language l ON f.language_id = l.language_id -- 🤝 Join with the language table (aliased as 'l')\n",
        "GROUP BY\n",
        "    l.name;                     -- 🗂️ Group the results by language"
      ],
      "metadata": {
        "id": "EL_6hoK6xocq"
      },
      "execution_count": null,
      "outputs": []
    },
    {
      "cell_type": "markdown",
      "source": [
        "**9.Display the title of the movie, customer s first name, and last name who rented it.**\n",
        "\n",
        "**Hint: Use JOIN between the film, inventory, rental, and customer tables.**\n",
        "\n",
        "Ans:- To display the movie title along with the first and last names of the customer who rented it, you'll need to join four tables: film, inventory, rental, and customer. 🎥🧑‍🤝‍🧑\n",
        "\n",
        "**Here is the SQL query:**"
      ],
      "metadata": {
        "id": "yUqTsBaoxrTt"
      }
    },
    {
      "cell_type": "code",
      "source": [
        "SELECT\n",
        "    f.title AS movie_title,      -- 🎥 Select the movie title\n",
        "    c.first_name,                -- 👤 Select the customer's first name\n",
        "    c.last_name                  -- 👤 Select the customer's last name\n",
        "FROM\n",
        "    film f                       -- Start with the film table (aliased as 'f')\n",
        "INNER JOIN\n",
        "    inventory i ON f.film_id = i.film_id -- 🔗 Join film to inventory\n",
        "INNER JOIN\n",
        "    rental r ON i.inventory_id = r.inventory_id -- 🤝 Join inventory to rental\n",
        "INNER JOIN\n",
        "    customer c ON r.customer_id = c.customer_id -- 🧑‍🤝‍🧑 Join rental to customer\n",
        "ORDER BY\n",
        "    f.title;                     -- 🔠 Optional: Sort the results by movie title"
      ],
      "metadata": {
        "id": "dsTG6CsJx-VH"
      },
      "execution_count": null,
      "outputs": []
    },
    {
      "cell_type": "markdown",
      "source": [
        "**10.Retrieve the names of all actors who have appeared in the film \"Gone with the Wind.\"**\n",
        "\n",
        "**Hint: Use JOIN between the film actor, film, and actor tables.**\n",
        "\n",
        "Ans:-To find the names of all actors who appeared in the film \"Gone with the Wind,\" you need to join the actor, film_actor, and film tables. 🎭🎥\n",
        "\n",
        "**Here's the SQL query:**"
      ],
      "metadata": {
        "id": "UzcWZG2lyA3N"
      }
    },
    {
      "cell_type": "code",
      "source": [
        "SELECT\n",
        "    a.first_name,        -- 👤 Select the actor's first name\n",
        "    a.last_name          -- 👤 Select the actor's last name\n",
        "FROM\n",
        "    actor a              -- Start with the actor table (aliased as 'a')\n",
        "INNER JOIN\n",
        "    film_actor fa ON a.actor_id = fa.actor_id -- 🤝 Link actors to film_actor table\n",
        "INNER JOIN\n",
        "    film f ON fa.film_id = f.film_id          -- 🔗 Link film_actor to the film table\n",
        "WHERE\n",
        "    f.title = 'Gone with the Wind'; -- 🔍 Filter for the movie title"
      ],
      "metadata": {
        "id": "XzXCTn1vyYBH"
      },
      "execution_count": null,
      "outputs": []
    },
    {
      "cell_type": "markdown",
      "source": [
        "**11.Retrieve the customer names along with the total amount they've spent on rentals.**\n",
        "\n",
        "**Hint: JOIN customer, payment, and rental tables, then use SUM() and GROUP BY.**\n",
        "\n",
        "Ans:- To retrieve customer names and the total amount they've spent on rentals, you'll need to join the customer and payment tables, as the payment table holds the transaction amounts. Then, you'll use the SUM() function and GROUP BY to aggregate the total spent for each customer. 💸\n",
        "\n",
        "**Here is the SQL query:**"
      ],
      "metadata": {
        "id": "us5bg6hmyaW9"
      }
    },
    {
      "cell_type": "code",
      "source": [
        "SELECT\n",
        "    c.first_name,        -- 👤 Select the customer's first name\n",
        "    c.last_name,         -- 👤 Select the customer's last name\n",
        "    SUM(p.amount) AS total_spent -- 💰 Calculate the total amount spent\n",
        "FROM\n",
        "    customer c           -- Start with the customer table (aliased as 'c')\n",
        "INNER JOIN\n",
        "    payment p ON c.customer_id = p.customer_id -- 🤝 Join with the payment table using customer_id\n",
        "GROUP BY\n",
        "    c.customer_id,       -- 🗂️ Group the results by customer ID\n",
        "    c.first_name,        -- 🗂️ and first name\n",
        "    c.last_name          -- 🗂️ and last name\n",
        "ORDER BY\n",
        "    total_spent DESC;    -- 🔽 Sort by the total amount spent in descending order"
      ],
      "metadata": {
        "id": "BSIPOi6jyq55"
      },
      "execution_count": null,
      "outputs": []
    },
    {
      "cell_type": "markdown",
      "source": [
        "**12.List the titles of movies rented by each customer in a particular city (e.g., 'London')**.\n",
        "\n",
        "**Hint: JOIN customer, address, city, rental, inventory, and film tables, then use GROUP BY.**\n",
        "\n",
        "Ans:- To get a list of movie titles rented by customers in a specific city, you need to link all the necessary tables. This involves joining customer to address, address to city, customer to rental, rental to inventory, and inventory to film.\n",
        "\n",
        "**Here is the SQL query to accomplish this for customers in 'London': 🏙️🎬**"
      ],
      "metadata": {
        "id": "j5OwFkXQyuKx"
      }
    },
    {
      "cell_type": "code",
      "source": [
        "SELECT\n",
        "    f.title AS movie_title,      -- 🎥 Select the movie title\n",
        "    c.first_name,                -- 👤 The customer's first name\n",
        "    c.last_name                  -- 👤 The customer's last name\n",
        "FROM\n",
        "    customer c                   -- Start with the customer table (aliased as 'c')\n",
        "INNER JOIN\n",
        "    address a ON c.address_id = a.address_id    -- 🤝 Link customer to their address\n",
        "INNER JOIN\n",
        "    city ci ON a.city_id = ci.city_id           -- 🔗 Link address to the city\n",
        "INNER JOIN\n",
        "    rental r ON c.customer_id = r.customer_id    -- 🤝 Link customer to their rentals\n",
        "INNER JOIN\n",
        "    inventory i ON r.inventory_id = i.inventory_id  -- 📦 Link rentals to inventory\n",
        "INNER JOIN\n",
        "    film f ON i.film_id = f.film_id             -- 🎞️ Link inventory to films\n",
        "WHERE\n",
        "    ci.city = 'London'           -- 🔍 Filter for a specific city\n",
        "GROUP BY\n",
        "    f.title,                     -- 🗂️ Group the results to avoid duplicates\n",
        "    c.first_name,\n",
        "    c.last_name\n",
        "ORDER BY\n",
        "    c.last_name, c.first_name, f.title; -- 🔡 Sort for easy reading"
      ],
      "metadata": {
        "id": "kZlgkTmLzBjY"
      },
      "execution_count": null,
      "outputs": []
    },
    {
      "cell_type": "markdown",
      "source": [
        "# Advanced Joins and GROUP BY:"
      ],
      "metadata": {
        "id": "2gS6kDCVzEXR"
      }
    },
    {
      "cell_type": "markdown",
      "source": [
        "**13.Display the top 5 rented movies along with the number of times they've been rented**.\n",
        "\n",
        "**Hint: JOIN film, inventory, and rental tables, then use COUNT () and GROUP BY, and limit the results.**\n",
        "\n",
        "Ans:- To display the top 5 rented movies and the number of times they've been rented, you'll need to join the film, inventory, and rental tables. 🏆🎬\n",
        "\n",
        "**Here is the SQL query:**"
      ],
      "metadata": {
        "id": "O-T0G_ZmzNg6"
      }
    },
    {
      "cell_type": "code",
      "source": [
        "SELECT\n",
        "    f.title AS movie_title,          -- 🎥 Select the movie title\n",
        "    COUNT(r.rental_id) AS rental_count -- 🔢 Count the number of times each movie has been rented\n",
        "FROM\n",
        "    film f                           -- Start with the film table (aliased as 'f')\n",
        "INNER JOIN\n",
        "    inventory i ON f.film_id = i.film_id -- 🔗 Link films to their inventory copies\n",
        "INNER JOIN\n",
        "    rental r ON i.inventory_id = r.inventory_id -- 🤝 Link inventory to rental transactions\n",
        "GROUP BY\n",
        "    f.title                          -- 🗂️ Group all rentals for the same movie together\n",
        "ORDER BY\n",
        "    rental_count DESC                -- 🔽 Sort the results from most rented to least\n",
        "LIMIT 5;                             -- 🖐️ Limit the output to the top 5"
      ],
      "metadata": {
        "id": "28HF22eh0Mr-"
      },
      "execution_count": null,
      "outputs": []
    },
    {
      "cell_type": "markdown",
      "source": [
        "**14.Determine the customers who have rented movies from both stores (store ID 1 and store ID 2).**\n",
        "\n",
        "**Hint: Use JOINS with rental, inventory, and customer tables and consider COUNT() and GROUP BY.**\n",
        "\n",
        "Ans:- To find the customers who have rented movies from both stores, you'll need to join the customer, rental, and inventory tables. Then you'll group the results by customer and use a HAVING clause to filter for customers who have rentals from both distinct store IDs. 🏢🏢\n",
        "\n",
        "**Here's the SQL query: 🧑‍🤝‍🧑🎥**"
      ],
      "metadata": {
        "id": "qskLjfYF0Pd1"
      }
    },
    {
      "cell_type": "code",
      "source": [
        "SELECT\n",
        "    c.first_name,         -- 👤 Select the customer's first name\n",
        "    c.last_name,          -- 👤 Select the customer's last name\n",
        "    COUNT(DISTINCT i.store_id) AS store_count -- 🔢 Count the unique stores they rented from\n",
        "FROM\n",
        "    customer c            -- Start with the customer table (aliased as 'c')\n",
        "INNER JOIN\n",
        "    rental r ON c.customer_id = r.customer_id -- 🤝 Link customers to their rentals\n",
        "INNER JOIN\n",
        "    inventory i ON r.inventory_id = i.inventory_id -- 🔗 Link rentals to the inventory to get the store ID\n",
        "GROUP BY\n",
        "    c.customer_id,        -- 🗂️ Group the results for each customer\n",
        "    c.first_name,\n",
        "    c.last_name\n",
        "HAVING\n",
        "    COUNT(DISTINCT i.store_id) = 2; -- 🔍 Filter for customers who have rented from exactly 2 distinct stores"
      ],
      "metadata": {
        "id": "oTk1osYp0d-4"
      },
      "execution_count": null,
      "outputs": []
    },
    {
      "cell_type": "markdown",
      "source": [
        "# Windows Function:"
      ],
      "metadata": {
        "id": "_ewUBH-F0nHj"
      }
    },
    {
      "cell_type": "markdown",
      "source": [
        "**1. Rank the customers based on the total amount they've spent on rentals.**\n",
        "\n",
        "Ans:- To rank customers based on their total spending, you can use the SUM() function on the payment table and then rank the results using a window function like RANK(). 🏆\n",
        "\n",
        "**Here is the SQL query:**"
      ],
      "metadata": {
        "id": "rd55Oykt0pds"
      }
    },
    {
      "cell_type": "code",
      "source": [
        "SELECT\n",
        "    c.customer_id,                     -- 🔑 Select the customer's ID\n",
        "    c.first_name,                      -- 👤 Select the customer's first name\n",
        "    c.last_name,                       -- 👤 Select the customer's last name\n",
        "    SUM(p.amount) AS total_spent,      -- 💰 Calculate the total amount spent by each customer\n",
        "    RANK() OVER (ORDER BY SUM(p.amount) DESC) as customer_rank -- 🥇 Rank customers by total spending\n",
        "FROM\n",
        "    customer c                         -- Start with the customer table (aliased as 'c')\n",
        "JOIN\n",
        "    payment p ON c.customer_id = p.customer_id -- 🤝 Join with the payment table\n",
        "GROUP BY\n",
        "    c.customer_id, c.first_name, c.last_name -- 🗂️ Group results for each unique customer\n",
        "ORDER BY\n",
        "    customer_rank ASC;                 -- 🔝 Display the highest-ranking customers first"
      ],
      "metadata": {
        "id": "Rgf3FMNe02u7"
      },
      "execution_count": null,
      "outputs": []
    },
    {
      "cell_type": "markdown",
      "source": [
        "**2. Calculate the cumulative revenue generated by each film over time.**\n",
        "\n",
        "Ans:- To calculate the cumulative revenue for each film over time, you can use a window function with an OVER clause. This allows you to perform an aggregate calculation (SUM in this case) across a set of table rows that are related to the current row. 📈\n",
        "\n",
        "**Here is the SQL query:**"
      ],
      "metadata": {
        "id": "oY1ciB7M09V6"
      }
    },
    {
      "cell_type": "code",
      "source": [
        "SELECT\n",
        "    f.title,                           -- 🎥 The title of the movie\n",
        "    p.payment_date,                    -- 📅 The date of the payment\n",
        "    p.amount,                          -- 💲 The amount of the individual payment\n",
        "    SUM(p.amount) OVER (PARTITION BY f.film_id ORDER BY p.payment_date) AS cumulative_revenue -- 💰 Calculate the cumulative revenue\n",
        "FROM\n",
        "    payment p                          -- Start with the payment table (aliased as 'p')\n",
        "JOIN\n",
        "    rental r ON p.rental_id = r.rental_id  -- 🤝 Join payments to rentals\n",
        "JOIN\n",
        "    inventory i ON r.inventory_id = i.inventory_id -- 🔗 Join rentals to inventory\n",
        "JOIN\n",
        "    film f ON i.film_id = f.film_id      -- 🎞️ Join inventory to films\n",
        "ORDER BY\n",
        "    f.title,                           -- 🔠 Sort by movie title\n",
        "    p.payment_date;                    -- 🗓️ Then by date to show the progression"
      ],
      "metadata": {
        "id": "XNbYY_yP1KTp"
      },
      "execution_count": null,
      "outputs": []
    },
    {
      "cell_type": "markdown",
      "source": [
        "**3. Determine the average rental duration for each film, considering films with similar lengths.**\n",
        "\n",
        "Ans:- To determine the average rental duration for each film, grouping them by similar lengths, you can use the NTILE() window function. This function divides the result set into a specified number of ranked groups, allowing you to categorize movies into buckets based on their length. 🎬📏\n",
        "\n",
        "**Here's the SQL query:**"
      ],
      "metadata": {
        "id": "TTdGVE7f1NOY"
      }
    },
    {
      "cell_type": "code",
      "source": [
        "WITH FilmLengthGroups AS (\n",
        "    SELECT\n",
        "        title,\n",
        "        length,\n",
        "        rental_duration,\n",
        "        NTILE(4) OVER (ORDER BY length) AS length_group\n",
        "    FROM\n",
        "        film\n",
        ")\n",
        "SELECT\n",
        "    length_group,\n",
        "    AVG(rental_duration) AS average_rental_duration,\n",
        "    COUNT(*) AS film_count\n",
        "FROM\n",
        "    FilmLengthGroups\n",
        "GROUP BY\n",
        "    length_group\n",
        "ORDER BY\n",
        "    length_group;"
      ],
      "metadata": {
        "id": "bO_hWsex1XU_"
      },
      "execution_count": null,
      "outputs": []
    },
    {
      "cell_type": "markdown",
      "source": [
        "**4. Identify the top 3 films in each category based on their rental counts.**\n",
        "\n",
        "Ans:- To identify the top 3 films in each category based on their rental counts, you can use a combination of JOINs, a GROUP BY clause, and the RANK() window function. This approach first calculates the rental count for each film and then ranks the films within each category. 🥇🎬\n",
        "\n",
        "**Here's the SQL query:**"
      ],
      "metadata": {
        "id": "Wz_fIyON1dfb"
      }
    },
    {
      "cell_type": "code",
      "source": [
        "WITH FilmRentalCounts AS (\n",
        "    SELECT\n",
        "        f.title,\n",
        "        c.name AS category_name,\n",
        "        COUNT(r.rental_id) AS rental_count\n",
        "    FROM\n",
        "        film f\n",
        "    JOIN\n",
        "        inventory i ON f.film_id = i.film_id\n",
        "    JOIN\n",
        "        rental r ON i.inventory_id = r.inventory_id\n",
        "    JOIN\n",
        "        film_category fc ON f.film_id = fc.film_id\n",
        "    JOIN\n",
        "        category c ON fc.category_id = c.category_id\n",
        "    GROUP BY\n",
        "        f.title, c.name\n",
        ")\n",
        ", RankedFilms AS (\n",
        "    SELECT\n",
        "        title,\n",
        "        category_name,\n",
        "        rental_count,\n",
        "        RANK() OVER (PARTITION BY category_name ORDER BY rental_count DESC) as category_rank\n",
        "    FROM\n",
        "        FilmRentalCounts\n",
        ")\n",
        "SELECT\n",
        "    title,\n",
        "    category_name,\n",
        "    rental_count\n",
        "FROM\n",
        "    RankedFilms\n",
        "WHERE\n",
        "    category_rank <= 3\n",
        "ORDER BY\n",
        "    category_name, category_rank;"
      ],
      "metadata": {
        "id": "m63rVOd21rMg"
      },
      "execution_count": null,
      "outputs": []
    },
    {
      "cell_type": "markdown",
      "source": [
        "**5. Calculate the difference in rental counts between each customer's total rentals and the average rentals**\n",
        "\n",
        "**across all customers.**\n",
        "\n",
        "Ans:- To calculate the difference between each customer's total rentals and the average rentals across all customers, you'll first need to determine each customer's total rental count and the overall average. Then, you can subtract the average from each customer's total. 🎬📊\n",
        "\n",
        "**Here's the SQL query:**"
      ],
      "metadata": {
        "id": "pTMmJ7MH1tqD"
      }
    },
    {
      "cell_type": "code",
      "source": [
        "WITH CustomerRentalCounts AS (\n",
        "    SELECT\n",
        "        customer_id,\n",
        "        COUNT(rental_id) AS total_rentals_by_customer\n",
        "    FROM\n",
        "        rental\n",
        "    GROUP BY\n",
        "        customer_id\n",
        "),\n",
        "AverageRentals AS (\n",
        "    SELECT\n",
        "        AVG(total_rentals_by_customer) AS average_rentals_across_all_customers\n",
        "    FROM\n",
        "        CustomerRentalCounts\n",
        ")\n",
        "SELECT\n",
        "    crc.customer_id,\n",
        "    crc.total_rentals_by_customer,\n",
        "    ar.average_rentals_across_all_customers,\n",
        "    crc.total_rentals_by_customer - ar.average_rentals_across_all_customers AS difference_from_average\n",
        "FROM\n",
        "    CustomerRentalCounts crc,\n",
        "    AverageRentals ar\n",
        "ORDER BY\n",
        "    difference_from_average DESC;"
      ],
      "metadata": {
        "id": "Eizj-Wih2J3A"
      },
      "execution_count": null,
      "outputs": []
    },
    {
      "cell_type": "markdown",
      "source": [
        "**6. Find the monthly revenue trend for the entire rental store over time.**\n",
        "\n",
        "Ans:-  To find the monthly revenue trend for the entire rental store, you need to calculate the total revenue for each month from the payment table. This can be achieved by using the SUM() function in combination with GROUP BY and a date function to extract the month and year from the payment_date. 📈🗓️\n",
        "\n",
        "**Here's the SQL query:**"
      ],
      "metadata": {
        "id": "83LmV9_O2MJF"
      }
    },
    {
      "cell_type": "code",
      "source": [
        "SELECT\n",
        "    DATE_FORMAT(payment_date, '%Y-%m') AS rental_month, -- 📅 Format the date to show year and month\n",
        "    SUM(amount) AS total_revenue     -- 💰 Calculate the total revenue for each month\n",
        "FROM\n",
        "    payment                         -- From the payment table\n",
        "GROUP BY\n",
        "    rental_month                    -- 🗂️ Group the results by the formatted month\n",
        "ORDER BY\n",
        "    rental_month;                   -- 🔽 Order the results chronologically"
      ],
      "metadata": {
        "id": "OGggESjd2bB5"
      },
      "execution_count": null,
      "outputs": []
    },
    {
      "cell_type": "markdown",
      "source": [
        "**7. Identify the customers whose total spending on rentals falls within the top 20% of all customers.**\n",
        "\n",
        "Ans:- To find the customers whose total spending on rentals falls within the top 20% of all customers, you'll need to calculate each customer's total spending, and then use a window function to determine their rank and filter the results. 💸🔝\n",
        "\n",
        "**Here's the SQL query:**"
      ],
      "metadata": {
        "id": "HRC0VpmF2djI"
      }
    },
    {
      "cell_type": "code",
      "source": [
        "WITH CustomerTotalSpending AS (\n",
        "    SELECT\n",
        "        customer_id,\n",
        "        SUM(amount) AS total_spent\n",
        "    FROM\n",
        "        payment\n",
        "    GROUP BY\n",
        "        customer_id\n",
        "),\n",
        "RankedCustomers AS (\n",
        "    SELECT\n",
        "        customer_id,\n",
        "        total_spent,\n",
        "        NTILE(5) OVER (ORDER BY total_spent DESC) as spending_quartile -- 5 is used for 20% (100/20=5)\n",
        "    FROM\n",
        "        CustomerTotalSpending\n",
        ")\n",
        "SELECT\n",
        "    c.first_name,\n",
        "    c.last_name,\n",
        "    rc.total_spent\n",
        "FROM\n",
        "    customer c\n",
        "JOIN\n",
        "    RankedCustomers rc ON c.customer_id = rc.customer_id\n",
        "WHERE\n",
        "    rc.spending_quartile = 1\n",
        "ORDER BY\n",
        "    rc.total_spent DESC;"
      ],
      "metadata": {
        "id": "k-GCdVmK2pol"
      },
      "execution_count": null,
      "outputs": []
    },
    {
      "cell_type": "markdown",
      "source": [
        "**8. Calculate the running total of rentals per category, ordered by rental count.**\n",
        "\n",
        "Ans:- To calculate the running total of rentals per category, ordered by the rental count, you'll need to use a window function. This function will compute a cumulative sum of rentals within each movie category. 🏃‍♂️🎬\n",
        "\n",
        "**Here is the SQL query:**"
      ],
      "metadata": {
        "id": "6PRddUZp2sSa"
      }
    },
    {
      "cell_type": "code",
      "source": [
        "WITH RentalCounts AS (\n",
        "    SELECT\n",
        "        c.name AS category,\n",
        "        COUNT(r.rental_id) AS rental_count\n",
        "    FROM\n",
        "        category c\n",
        "    JOIN\n",
        "        film_category fc ON c.category_id = fc.category_id\n",
        "    JOIN\n",
        "        inventory i ON fc.film_id = i.film_id\n",
        "    JOIN\n",
        "        rental r ON i.inventory_id = r.inventory_id\n",
        "    GROUP BY\n",
        "        c.name\n",
        ")\n",
        "SELECT\n",
        "    category,\n",
        "    rental_count,\n",
        "    SUM(rental_count) OVER (ORDER BY rental_count DESC) AS running_total_of_rentals\n",
        "FROM\n",
        "    RentalCounts\n",
        "ORDER BY\n",
        "    rental_count DESC;"
      ],
      "metadata": {
        "id": "wghbcvvI24AU"
      },
      "execution_count": null,
      "outputs": []
    },
    {
      "cell_type": "markdown",
      "source": [
        "**9. Find the films that have been rented less than the average rental count for their respective categories.**\n",
        "\n",
        "Ans:- To find the films that have been rented less than the average rental count for their respective categories, you'll need a multi-step query using Common Table Expressions (CTEs) or subqueries. This approach first calculates the rental count for each film and the average rental count for each category, then compares them to identify films that fall below their category's average. 📉🎬\n",
        "\n",
        "**Here is the SQL query:**"
      ],
      "metadata": {
        "id": "pYXMh70D26vO"
      }
    },
    {
      "cell_type": "code",
      "source": [
        "WITH FilmRentalCounts AS (\n",
        "    -- Step 1: Calculate the rental count for each film.\n",
        "    SELECT\n",
        "        f.film_id,\n",
        "        f.title,\n",
        "        fc.category_id,\n",
        "        COUNT(r.rental_id) AS rental_count\n",
        "    FROM\n",
        "        film f\n",
        "    JOIN\n",
        "        film_category fc ON f.film_id = fc.film_id\n",
        "    JOIN\n",
        "        inventory i ON fc.film_id = i.film_id\n",
        "    JOIN\n",
        "        rental r ON i.inventory_id = r.inventory_id\n",
        "    GROUP BY\n",
        "        f.film_id, f.title, fc.category_id\n",
        "),\n",
        "CategoryAverageRentals AS (\n",
        "    -- Step 2: Calculate the average rental count for each category.\n",
        "    SELECT\n",
        "        category_id,\n",
        "        AVG(rental_count) AS average_rental_count\n",
        "    FROM\n",
        "        FilmRentalCounts\n",
        "    GROUP BY\n",
        "        category_id\n",
        ")\n",
        "-- Step 3: Find films with a rental count less than their category's average.\n",
        "SELECT\n",
        "    frc.title,\n",
        "    frc.rental_count,\n",
        "    car.average_rental_count\n",
        "FROM\n",
        "    FilmRentalCounts frc\n",
        "JOIN\n",
        "    CategoryAverageRentals car ON frc.category_id = car.category_id\n",
        "WHERE\n",
        "    frc.rental_count < car.average_rental_count\n",
        "ORDER BY\n",
        "    frc.rental_count DESC;"
      ],
      "metadata": {
        "id": "A2oqaZ1n3OH7"
      },
      "execution_count": null,
      "outputs": []
    },
    {
      "cell_type": "markdown",
      "source": [
        "**10. Identify the top 5 months with the highest revenue and display the revenue generated in each month.**\n",
        "\n",
        "Ans:- To identify the top 5 months with the highest revenue, you need to calculate the total revenue for each month from the payment table. 💸🗓️\n",
        "\n",
        "**Here's the SQL query:**"
      ],
      "metadata": {
        "id": "aM2ViAm53Q4e"
      }
    },
    {
      "cell_type": "code",
      "source": [
        "SELECT\n",
        "    DATE_FORMAT(payment_date, '%Y-%m') AS rental_month,\n",
        "    SUM(amount) AS total_revenue\n",
        "FROM\n",
        "    payment\n",
        "GROUP BY\n",
        "    rental_month\n",
        "ORDER BY\n",
        "    total_revenue DESC\n",
        "LIMIT 5;"
      ],
      "metadata": {
        "id": "Ob3yINvF3e87"
      },
      "execution_count": null,
      "outputs": []
    },
    {
      "cell_type": "markdown",
      "source": [
        "# Normalisation & CTE"
      ],
      "metadata": {
        "id": "en1kooC23mW2"
      }
    },
    {
      "cell_type": "markdown",
      "source": [
        "**1.first Normal Form (1NF):**\n",
        "\n",
        " a. Identify a table in the Sakila database that violates 1NF. Explain how you\n",
        "\n",
        " would normalize it to achieve 1NF.\n",
        "\n",
        "\n",
        " Ans:- Based on the Sakila database schema provided, the film table violates the First Normal Form (1NF). 🚫\n",
        "\n",
        "Violation of 1NF\n",
        "A table is in 1NF if all its column values are atomic, meaning they cannot be further broken down into smaller, meaningful parts. The film table has a special_features column with a data type of SET. This column can hold multiple values, such as 'Trailers', 'Commentaries', or 'Deleted Scenes', all within a single field. This makes the column non-atomic, which is a direct violation of 1NF. .\n",
        "\n",
        "**Normalization to 1NF**\n",
        "\n",
        "To normalize the film table to 1NF, you would need to decompose the non-atomic column into a separate table. This involves the following steps:\n",
        "\n",
        "**1.Create a new table** called film_special_features to store the atomic values. This table would have:\n",
        "\n",
        "- A primary key (feature_id).\n",
        "\n",
        "- A foreign key (film_id) to link back to the original film table.\n",
        "\n",
        "- A column to hold each individual feature (feature_name).\n",
        "\n",
        "**2.Populate the new table** by taking each feature from the film.special_features column and inserting it as a separate row in the new film_special_features table, along with the corresponding film_id.\n",
        "\n",
        "**3.Drop the** original special_features column from the film table.\n",
        "\n",
        "This restructuring ensures that each column in both tables holds a single, atomic value, thus satisfying the requirements of First Normal Form. 💡\n"
      ],
      "metadata": {
        "id": "xXCUbbjH3pAx"
      }
    },
    {
      "cell_type": "markdown",
      "source": [
        "**2. Second Normal Form (2NF):**\n",
        "\n",
        " a. Choose a table in Sakila and describe how you would determine whether it is in 2NF.\n",
        "\n",
        " If it violates 2NF, explain the steps to normalize it.\n",
        "\n",
        " Ans:-  To determine if a table is in Second Normal Form (2NF), you first need to confirm that it is already in First Normal Form (1NF). A table is in **2NF** if it meets the following two criteria:\n",
        "1.  It is in **1NF**.\n",
        "2.  All non-key attributes are fully dependent on the entire primary key. This means there are no partial dependencies, where a non-key column depends on only part of a composite primary key.\n",
        "\n",
        "Let's examine the **`film_actor`** table from the Sakila database, as it has a composite primary key.\n",
        "\n",
        "### **How to Determine if `film_actor` is in 2NF**\n",
        "\n",
        "* **Primary Key**: The primary key of the `film_actor` table is a composite key consisting of two columns: `(actor_id, film_id)`.\n",
        "* **Non-Key Attributes**: The only other column is `last_update`.\n",
        "\n",
        "To check for a 2NF violation, we must ask if the non-key attribute (`last_update`) is fully dependent on the entire composite primary key. In this case, `last_update` is a timestamp that is updated whenever a change is made to a record in the `film_actor` table. It depends on both `actor_id` and `film_id` to uniquely identify the record being updated. Therefore, `last_update` is fully dependent on the entire primary key.\n",
        "\n",
        "**Conclusion**: The `film_actor` table is already in 2NF because it is in 1NF and has no partial dependencies.\n",
        "\n",
        "### **Example of a Violation and Normalization**\n",
        "\n",
        "To illustrate a 2NF violation, let's consider a hypothetical scenario with an `orders` table that stores information about individual items in an order.\n",
        "\n",
        "**Original Table (Not in 2NF)**:\n",
        "\n",
        "| `order_id` | `product_id` | `order_date` | `product_name` | `product_price` |\n",
        "|:---:|:---:|:---:|:---:|:---:|\n",
        "| 101 | A | 2023-01-01 | Laptop | 1200 |\n",
        "| 101 | B | 2023-01-01 | Mouse | 50 |\n",
        "| 102 | A | 2023-01-02 | Laptop | 1200 |\n",
        "\n",
        "* **Composite Primary Key**: `(order_id, product_id)`\n",
        "* **Partial Dependency**: The `order_date` column depends only on `order_id`, not on the full primary key. Similarly, `product_name` and `product_price` depend only on `product_id`.\n",
        "\n",
        "To normalize this table to 2NF, you would decompose it into three separate tables:\n",
        "\n",
        "1.  **`Orders` Table**: Contains information that depends only on `order_id`.\n",
        "    * `order_id` (PK)\n",
        "    * `order_date`\n",
        "\n",
        "2.  **`Products` Table**: Contains information that depends only on `product_id`.\n",
        "    * `product_id` (PK)\n",
        "    * `product_name`\n",
        "    * `product_price`\n",
        "\n",
        "3.  **`Order_Details` Table**: This is the linking table that holds the composite key and any attributes dependent on the full key (in this simple case, none).\n",
        "    * `order_id` (PK, FK to `Orders`)\n",
        "    * `product_id` (PK, FK to `Products`)\n",
        "\n",
        "This normalization process removes the partial dependencies, ensuring that each piece of data is stored logically and efficiently."
      ],
      "metadata": {
        "id": "Xxrfx-MD5OKy"
      }
    },
    {
      "cell_type": "markdown",
      "source": [
        "**3. Third Normal Form (3NF):**\n",
        "\n",
        " a. Identify a table in Sakila that violates 3NF. Describe the transitive dependencies\n",
        "\n",
        " present and outline the steps to normalize the table to 3NF.\n",
        "\n",
        "\n",
        " Ans:- A table is in **Third Normal Form (3NF)** if it is in 2NF and all of its non-key columns are directly dependent on the primary key, with no dependencies on other non-key columns. This type of dependency is known as a **transitive dependency**. 🔄\n",
        "\n",
        "Based on the provided Sakila database schema, the **`actor_award`** table violates 3NF.\n",
        "\n",
        "---\n",
        "\n",
        "### Transitive Dependency in `actor_award` 🕵️‍♀️\n",
        "\n",
        "The `actor_award` table has the following structure:\n",
        "* `actor_award_id` (Primary Key)\n",
        "* `actor_id` (Non-key attribute)\n",
        "* `first_name` (Non-key attribute)\n",
        "* `last_name` (Non-key attribute)\n",
        "* `awards` (Non-key attribute)\n",
        "* `last_update` (Non-key attribute)\n",
        "\n",
        "Here's the transitive dependency:\n",
        "* The primary key is `actor_award_id`.\n",
        "* The `first_name` and `last_name` columns are non-key attributes.\n",
        "* `first_name` and `last_name` are directly dependent on the `actor_id` (which is itself a non-key attribute), not on the primary key (`actor_award_id`).\n",
        "\n",
        "In other words:\n",
        "`actor_award_id` -> `actor_id` -> (`first_name`, `last_name`)\n",
        "\n",
        "This chain of dependency, where `first_name` and `last_name` are indirectly linked to the primary key through the `actor_id`, is a clear violation of 3NF.\n",
        "\n",
        "---\n",
        "\n",
        "### Steps to Normalize to 3NF 🛠️\n",
        "\n",
        "To normalize this table to 3NF, we must remove the transitive dependency by placing the dependent columns (`first_name` and `last_name`) into a separate table that already exists in the database: the `actor` table.\n",
        "\n",
        "1.  **Identify the dependency**: The columns `first_name` and `last_name` are determined by `actor_id`.\n",
        "2.  **Separate the data**: The database already has an `actor` table with `actor_id` as its primary key and the `first_name` and `last_name` columns. We don't need to create a new table.\n",
        "3.  **Refactor the violating table**: We remove the `first_name` and `last_name` columns from the `actor_award` table. The `actor_id` remains as a foreign key, which is all that's needed to reference the actor's details from the `actor` table.\n",
        "\n",
        "After normalization, the `actor_award` table would look like this:\n",
        "\n",
        "| `actor_award_id` | `actor_id` | `awards` | `last_update` |\n",
        "|:---:|:---:|:---:|:---:|\n",
        "| PK | FK | | |\n",
        "\n",
        "The `actor` table would continue to store the unique actor details:\n",
        "\n",
        "| `actor_id` | `first_name` | `last_name` | `last_update` |\n",
        "|:---:|:---:|:---:|:---:|\n",
        "| PK | | | |\n",
        "\n",
        "This new structure eliminates the transitive dependency and ensures that each non-key attribute in the `actor_award` table (`awards`) is directly dependent only on the primary key. ✅"
      ],
      "metadata": {
        "id": "N1B70U1r5sWW"
      }
    },
    {
      "cell_type": "markdown",
      "source": [
        "**4. Normalization Process:**\n",
        "\n",
        " a. Take a specific table in Sakila and guide through the process of normalizing it from the initial\n",
        "\n",
        " unnormalized form up to at least 2NF.\n",
        "\n",
        " Ans:- ### Normalization from Unnormalized Form to 2NF 🛠️\n",
        "\n",
        "Let's walk through the normalization process using a hypothetical table that combines information from the `film`, `actor`, and `film_actor` tables in an unnormalized state.\n",
        "\n",
        "---\n",
        "\n",
        "### **1. Unnormalized to First Normal Form (1NF)**\n",
        "\n",
        "An unnormalized table contains columns with repeating groups or non-atomic values.\n",
        "\n",
        "**Hypothetical Unnormalized Table: `film_actors_unnormalized`**\n",
        "\n",
        "| `film_id` | `title` | `actors` |\n",
        "|:---:|:---:|:---:|\n",
        "| 1 | `ACADEMY DINOSAUR` | `{\"id\": 1, \"name\": \"PENELOPE GUINESS\"}, {\"id\": 106, \"name\": \"GARY PHOENIX\"}` |\n",
        "| 2 | `ACE GOLDFINGER` | `{\"id\": 3, \"name\": \"ED CHASE\"}, {\"id\": 105, \"name\": \"SIDNEY CROWE\"}` |\n",
        "\n",
        "This table violates **1NF** because the `actors` column holds multiple, non-atomic values (a list of actor IDs and names).\n",
        "\n",
        "**To achieve 1NF**: We must eliminate the repeating groups by placing each actor-film combination on its own separate row.\n",
        "\n",
        "**Normalized to 1NF:**\n",
        "\n",
        "| `film_id` | `title` | `actor_id` | `actor_name` |\n",
        "|:---:|:---:|:---:|:---:|\n",
        "| 1 | `ACADEMY DINOSAUR` | 1 | `PENELOPE GUINESS` |\n",
        "| 1 | `ACADEMY DINOSAUR` | 106 | `GARY PHOENIX` |\n",
        "| 2 | `ACE GOLDFINGER` | 3 | `ED CHASE` |\n",
        "| 2 | `ACE GOLDFINGER` | 105 | `SIDNEY CROWE` |\n",
        "\n",
        "This new table is now in 1NF as every column contains a single, atomic value. The composite primary key for this table would be `(film_id, actor_id)`.\n",
        "\n",
        "---\n",
        "\n",
        "### **2. First Normal Form to Second Normal Form (2NF)**\n",
        "\n",
        "A table is in **2NF** if it's in 1NF and all non-key attributes are fully dependent on the entire composite primary key. The 1NF table above has two non-key attributes: `title` and `actor_name`. Let's check their dependencies on the composite primary key `(film_id, actor_id)`.\n",
        "\n",
        "* `title` is dependent on `film_id`, but not on `actor_id`. Knowing the `film_id` is enough to know the `title`. This is a **partial dependency**. 💔\n",
        "* `actor_name` is dependent on `actor_id`, but not on `film_id`. Knowing the `actor_id` is enough to know the `actor_name`. This is another **partial dependency**. 💔\n",
        "\n",
        "**To achieve 2NF**: We must remove these partial dependencies by splitting the table into new tables. The non-key attributes that depend on only part of the key are moved to a new table with that part of the key becoming its primary key. This is exactly how the Sakila database is structured!\n",
        "\n",
        "**Normalized to 2NF (as seen in the Sakila schema)**:\n",
        "\n",
        "1.  **`film` Table**:\n",
        "    * `film_id` (Primary Key)\n",
        "    * `title`\n",
        "    This table stores information that depends solely on the film.\n",
        "\n",
        "2.  **`actor` Table**:\n",
        "    * `actor_id` (Primary Key)\n",
        "    * `first_name`\n",
        "    * `last_name`\n",
        "    This table stores information that depends solely on the actor.\n",
        "\n",
        "3.  **`film_actor` Table (The Junction Table)**:\n",
        "    * `film_id` (Foreign Key, part of Composite Primary Key)\n",
        "    * `actor_id` (Foreign Key, part of Composite Primary Key)\n",
        "    This table links the other two, holding only the composite primary key.\n",
        "\n",
        "This final structure eliminates all partial dependencies, ensuring that each table is focused on a single topic and adheres to 2NF. ✅"
      ],
      "metadata": {
        "id": "vabOt7PX59mA"
      }
    },
    {
      "cell_type": "markdown",
      "source": [
        "**5.CTE Basics:**\n",
        "\n",
        " a. Write a query using a CTE to retrieve the distinct list of actor names and the number of films they\n",
        "\n",
        " have acted in from the actor and film_actor tables.\n",
        "\n",
        "\n",
        " Ans:- Here's a query using a Common Table Expression (CTE) to get a distinct list of actor names and the number of films they've acted in. 🎭🎬\n",
        "\n",
        "```sql\n",
        "WITH ActorFilmCounts AS (\n",
        "    SELECT\n",
        "        a.actor_id,\n",
        "        CONCAT(a.first_name, ' ', a.last_name) AS actor_name, -- Combine first and last names for full actor name\n",
        "        COUNT(fa.film_id) AS film_count -- Count the number of films each actor has been in\n",
        "    FROM\n",
        "        actor a -- Start with the actor table (aliased as 'a')\n",
        "    JOIN\n",
        "        film_actor fa ON a.actor_id = fa.actor_id -- Join with film_actor to link actors to films\n",
        "    GROUP BY\n",
        "        a.actor_id, actor_name -- Group by actor to count films per actor\n",
        ")\n",
        "SELECT\n",
        "    actor_name, -- Select the actor's full name\n",
        "    film_count -- Select the count of films they've acted in\n",
        "FROM\n",
        "    ActorFilmCounts\n",
        "ORDER BY\n",
        "    film_count DESC, actor_name; -- Order by film count (descending) then by actor name\n",
        "```\n",
        "\n",
        "-----\n",
        "\n",
        "### **Explanation** 💡\n",
        "\n",
        "The query uses a CTE named `ActorFilmCounts` to first gather and aggregate the necessary data.\n",
        "\n",
        "1.  **`ActorFilmCounts` CTE**:\n",
        "\n",
        "      * It joins the `actor` table (aliased as `a`) with the `film_actor` table (aliased as `fa`) on `actor_id`. This links each actor to the films they've participated in.\n",
        "      * `CONCAT(a.first_name, ' ', a.last_name)` creates a single column `actor_name` for the full name.\n",
        "      * `COUNT(fa.film_id)` counts how many film entries exist for each actor.\n",
        "      * `GROUP BY a.actor_id, actor_name` ensures that the count is performed for each unique actor.\n",
        "\n",
        "2.  **Final `SELECT` Statement**:\n",
        "\n",
        "      * This selects the `actor_name` and `film_count` directly from the `ActorFilmCounts` CTE.\n",
        "      * `ORDER BY film_count DESC, actor_name` sorts the results to show actors with the most films first, and then alphabetically by name for ties."
      ],
      "metadata": {
        "id": "zzcrE52m6hbX"
      }
    },
    {
      "cell_type": "markdown",
      "source": [
        "**6. CTE with Joins:**\n",
        "\n",
        " a. Create a CTE that combines information from the film and language tables to display the film title,\n",
        "\n",
        " language name, and rental rate.\n",
        "\n",
        "\n",
        " Ans:- Here's a query using a CTE that combines information from the `film` and `language` tables to display the film title, language name, and rental rate. 🎥🗣️\n",
        "\n",
        "```sql\n",
        "WITH FilmLanguageDetails AS (\n",
        "    SELECT\n",
        "        f.title AS film_title,     -- 🎬 Select the film title\n",
        "        l.name AS language_name,   -- 🗣️ Select the language name\n",
        "        f.rental_rate              -- 💲 Select the rental rate\n",
        "    FROM\n",
        "        film f                     -- From the film table (aliased as 'f')\n",
        "    JOIN\n",
        "        language l ON f.language_id = l.language_id -- 🤝 Join with the language table (aliased as 'l')\n",
        ")\n",
        "SELECT\n",
        "    film_title,\n",
        "    language_name,\n",
        "    rental_rate\n",
        "FROM\n",
        "    FilmLanguageDetails\n",
        "ORDER BY\n",
        "    film_title; -- 🔠 Order the results by film title\n",
        "```\n",
        "\n",
        "-----\n",
        "\n",
        "### **Explanation** 💡\n",
        "\n",
        "The `FilmLanguageDetails` CTE is used to first join the `film` and `language` tables.\n",
        "\n",
        "1.  **`FilmLanguageDetails` CTE**:\n",
        "\n",
        "      * It selects the `title` from the `film` table, the `name` from the `language` table, and the `rental_rate` from the `film` table.\n",
        "      * The `JOIN` condition `f.language_id = l.language_id` links films to their corresponding language based on the `language_id`.\n",
        "\n",
        "2.  **Final `SELECT` Statement**:\n",
        "\n",
        "      * This simply retrieves all the columns defined in the `FilmLanguageDetails` CTE.\n",
        "      * The `ORDER BY film_title` clause sorts the final output alphabetically by movie title."
      ],
      "metadata": {
        "id": "L34X_GB_693E"
      }
    },
    {
      "cell_type": "markdown",
      "source": [
        "**7. CTE for Aggregation:**\n",
        "\n",
        "a. Write a query using a CTE to find the total revenue generated by each customer (sum of payments)\n",
        "\n",
        " from the customer and payment tables.\n",
        "\n",
        " Ans:-  Here's a query using a CTE to find the total revenue generated by each customer from the `customer` and `payment` tables. 💰🧑‍🤝‍🧑\n",
        "\n",
        "```sql\n",
        "WITH CustomerRevenue AS (\n",
        "    SELECT\n",
        "        c.customer_id,\n",
        "        c.first_name,\n",
        "        c.last_name,\n",
        "        SUM(p.amount) AS total_revenue_spent -- Calculate the sum of payments for each customer\n",
        "    FROM\n",
        "        customer c -- From the customer table (aliased as 'c')\n",
        "    JOIN\n",
        "        payment p ON c.customer_id = p.customer_id -- Join with the payment table (aliased as 'p')\n",
        "    GROUP BY\n",
        "        c.customer_id, c.first_name, c.last_name -- Group by customer to aggregate their total spending\n",
        ")\n",
        "SELECT\n",
        "    customer_id,\n",
        "    first_name,\n",
        "    last_name,\n",
        "    total_revenue_spent\n",
        "FROM\n",
        "    CustomerRevenue\n",
        "ORDER BY\n",
        "    total_revenue_spent DESC; -- Order by total revenue spent in descending order\n",
        "```\n",
        "\n",
        "-----\n",
        "\n",
        "### **Explanation** 💡\n",
        "\n",
        "The `CustomerRevenue` CTE is used to first calculate the total amount each customer has spent.\n",
        "\n",
        "1.  **`CustomerRevenue` CTE**:\n",
        "\n",
        "      * It selects the `customer_id`, `first_name`, and `last_name` from the `customer` table.\n",
        "      * It calculates the `SUM(p.amount)` to get the total revenue for each customer, aliasing it as `total_revenue_spent`.\n",
        "      * The `JOIN` condition `c.customer_id = p.customer_id` links customers to their payment records.\n",
        "      * `GROUP BY c.customer_id, c.first_name, c.last_name` ensures that the sum is calculated for each unique customer.\n",
        "\n",
        "2.  **Final `SELECT` Statement**:\n",
        "\n",
        "      * This simply retrieves all the columns defined in the `CustomerRevenue` CTE.\n",
        "      * The `ORDER BY total_revenue_spent DESC` clause sorts the final output to show the highest-spending customers first."
      ],
      "metadata": {
        "id": "8xKejNeJ7W3Q"
      }
    },
    {
      "cell_type": "markdown",
      "source": [
        "**8.CTE with Window Functions:**\n",
        "\n",
        " a. Utilize a CTE with a window function to rank films based on their rental duration from the film table.\n",
        "\n",
        "\n",
        " Ans:- Here's a query using a Common Table Expression (CTE) and a window function to rank films based on their rental duration. 🎬🏆\n",
        "\n",
        "```sql\n",
        "WITH RankedFilmsByDuration AS (\n",
        "    SELECT\n",
        "        title,                       -- 🎥 Select the film title\n",
        "        rental_duration,             -- ⏱️ The film's rental duration in days\n",
        "        RANK() OVER (ORDER BY rental_duration DESC) as rental_duration_rank -- 🥇 Rank films based on rental duration, from longest to shortest\n",
        "    FROM\n",
        "        film                         -- From the film table\n",
        ")\n",
        "SELECT\n",
        "    title,\n",
        "    rental_duration,\n",
        "    rental_duration_rank\n",
        "FROM\n",
        "    RankedFilmsByDuration\n",
        "ORDER BY\n",
        "    rental_duration_rank; -- 🔝 Order the final results by rank\n",
        "```\n",
        "\n",
        "-----\n",
        "\n",
        "### **Explanation** 💡\n",
        "\n",
        "1.  **`RankedFilmsByDuration` CTE**: This creates a temporary result set. It selects each film's title and rental duration. The `RANK() OVER (ORDER BY rental_duration DESC)` part is the key:\n",
        "\n",
        "      * `RANK()`: This is the window function that assigns a rank to each row.\n",
        "      * `OVER (ORDER BY rental_duration DESC)`: This defines the window for ranking. It sorts all films by their `rental_duration` in descending order, meaning the longest durations get the highest rank (rank 1).\n",
        "\n",
        "2.  **Final `SELECT` Statement**: This simply retrieves the film title, rental duration, and the newly created rank from the CTE, displaying the films in order from the highest to the lowest rank."
      ],
      "metadata": {
        "id": "cebA0AB371G0"
      }
    },
    {
      "cell_type": "markdown",
      "source": [
        "**9.CTE and Filtering:**\n",
        "\n",
        " a. Create a CTE to list customers who have made more than two rentals, and then join this CTE with the\n",
        "\n",
        " customer table to retrieve additional customer details.\n",
        "\n",
        " Ans:- Here's a query that uses a CTE to first identify customers who have made more than two rentals and then joins that result with the `customer` table to retrieve their full details. 🧑‍🤝‍🧑✅\n",
        "\n",
        "```sql\n",
        "WITH ActiveCustomers AS (\n",
        "    SELECT\n",
        "        customer_id,\n",
        "        COUNT(rental_id) as rental_count -- Count the number of rentals per customer\n",
        "    FROM\n",
        "        rental\n",
        "    GROUP BY\n",
        "        customer_id\n",
        "    HAVING\n",
        "        COUNT(rental_id) > 2 -- Filter for customers with more than 2 rentals\n",
        ")\n",
        "SELECT\n",
        "    c.first_name,\n",
        "    c.last_name,\n",
        "    c.email,\n",
        "    ac.rental_count\n",
        "FROM\n",
        "    customer c\n",
        "JOIN\n",
        "    ActiveCustomers ac ON c.customer_id = ac.customer_id\n",
        "ORDER BY\n",
        "    ac.rental_count DESC, c.last_name;\n",
        "```\n",
        "\n",
        "-----\n",
        "\n",
        "### **Explanation** 💡\n",
        "\n",
        "1.  **`ActiveCustomers` CTE**: This CTE is the core of the filtering logic.\n",
        "\n",
        "      * It groups the records in the `rental` table by `customer_id`.\n",
        "      * `COUNT(rental_id)` calculates the total number of rentals for each customer.\n",
        "      * The `HAVING` clause then filters these groups, keeping only the customers who have a `COUNT(rental_id)` greater than 2.\n",
        "\n",
        "2.  **Final `SELECT` Statement**: This query joins the `customer` table with the `ActiveCustomers` CTE.\n",
        "\n",
        "      * It selects the customer's `first_name`, `last_name`, `email`, and the `rental_count` from the CTE.\n",
        "      * This allows you to get a full list of details for only the customers who met the condition, without having to nest subqueries or perform complex joins in the main query.\n"
      ],
      "metadata": {
        "id": "AeXSwfAR8GAk"
      }
    },
    {
      "cell_type": "markdown",
      "source": [
        "**10. CTE for Date Calculations:**\n",
        "\n",
        " a. Write a query using a CTE to find the total number of rentals made each month, considering the\n",
        "\n",
        " rental_date from the rental table\n",
        "\n",
        " Ans:-  Here's a query using a CTE to find the total number of rentals made each month. 🗓️\n",
        "\n",
        "```sql\n",
        "WITH MonthlyRentals AS (\n",
        "    SELECT\n",
        "        DATE_FORMAT(rental_date, '%Y-%m') AS rental_month, -- 📅 Extract year and month from rental_date\n",
        "        COUNT(rental_id) AS total_rentals                  -- 🔢 Count rentals for each month\n",
        "    FROM\n",
        "        rental\n",
        "    GROUP BY\n",
        "        rental_month                                       -- 🗂️ Group by the extracted month\n",
        ")\n",
        "SELECT\n",
        "    rental_month,\n",
        "    total_rentals\n",
        "FROM\n",
        "    MonthlyRentals\n",
        "ORDER BY\n",
        "    rental_month;                                          -- 🔽 Order chronologically\n",
        "```\n",
        "\n",
        "-----\n",
        "\n",
        "### **Explanation** 💡\n",
        "\n",
        "1.  **`MonthlyRentals` CTE**: This CTE calculates the total number of rentals for each distinct month.\n",
        "\n",
        "      * `DATE_FORMAT(rental_date, '%Y-%m')` extracts the year and month from the `rental_date` and formats it as 'YYYY-MM'. This is crucial for grouping rentals by month across different years.\n",
        "      * `COUNT(rental_id)` counts all the rental IDs for each month.\n",
        "      * `GROUP BY rental_month` aggregates these counts for each unique month-year combination.\n",
        "\n",
        "2.  **Final `SELECT` Statement**: This simply retrieves the `rental_month` and `total_rentals` from the `MonthlyRentals` CTE, ordered chronologically. This provides a clear trend of rental activity over time. 📈"
      ],
      "metadata": {
        "id": "cZ8pyrxW8hy0"
      }
    },
    {
      "cell_type": "markdown",
      "source": [
        " **11.CTE and Self-Join:**\n",
        "\n",
        " a. Create a CTE to generate a report showing pairs of actors who have appeared in the same film\n",
        "\n",
        " together, using the film_actor table.\n",
        "\n",
        " Ans:- Here's a query using a Common Table Expression (CTE) to generate a report of all pairs of actors who have appeared in the same film together. 👯‍♀️🎬\n",
        "\n",
        "```sql\n",
        "WITH ActorFilms AS (\n",
        "  SELECT\n",
        "    fa1.film_id,\n",
        "    fa1.actor_id AS actor_id_1,\n",
        "    fa2.actor_id AS actor_id_2\n",
        "  FROM\n",
        "    film_actor fa1\n",
        "  JOIN\n",
        "    film_actor fa2 ON fa1.film_id = fa2.film_id\n",
        "  WHERE\n",
        "    fa1.actor_id < fa2.actor_id -- This condition prevents duplicate pairs (e.g., A-B and B-A)\n",
        ")\n",
        "SELECT\n",
        "  a1.first_name AS actor1_first_name,\n",
        "  a1.last_name AS actor1_last_name,\n",
        "  a2.first_name AS actor2_first_name,\n",
        "  a2.last_name AS actor2_last_name,\n",
        "  COUNT(af.film_id) AS number_of_films\n",
        "FROM\n",
        "  ActorFilms af\n",
        "JOIN\n",
        "  actor a1 ON af.actor_id_1 = a1.actor_id\n",
        "JOIN\n",
        "  actor a2 ON af.actor_id_2 = a2.actor_id\n",
        "GROUP BY\n",
        "  actor1_first_name, actor1_last_name, actor2_first_name, actor2_last_name\n",
        "ORDER BY\n",
        "  number_of_films DESC, actor1_first_name, actor2_first_name;\n",
        "```\n",
        "\n",
        "-----\n",
        "\n",
        "### **Explanation** 💡\n",
        "\n",
        "1.  **`ActorFilms` CTE**: This CTE uses a **self-join** on the `film_actor` table.\n",
        "\n",
        "      * The table is joined with itself (`fa1` and `fa2`) on the `film_id` column. This creates a virtual table where every row represents two actors who appeared in the same film.\n",
        "      * `WHERE fa1.actor_id < fa2.actor_id` is a clever and essential trick. It ensures that each pair of actors is listed only once (e.g., Penelope and Nick, not Nick and Penelope), and it prevents an actor from being paired with themself.\n",
        "\n",
        "2.  **Final `SELECT` Statement**: This query then takes the results from the `ActorFilms` CTE and joins them with the `actor` table twice (once for each actor in the pair) to get their first and last names.\n",
        "\n",
        "      * `COUNT(af.film_id)` counts how many films each unique pair has appeared in together.\n",
        "      * `GROUP BY` aggregates the results by the two actors' names.\n",
        "      * `ORDER BY` sorts the results to show the most frequently collaborating pairs at the top."
      ],
      "metadata": {
        "id": "LYDfgFLK85zG"
      }
    },
    {
      "cell_type": "markdown",
      "source": [
        "**12.CTE for Recursive Search:**\n",
        "\n",
        " a. Implement a recursive CTE to find all employees in the staff table who report to a specific manager,\n",
        "\n",
        " considering the reports_to column\n",
        "\n",
        " Ans:- Based on the provided schema for the `staff` table, there is no `reports_to` column that could be used for a recursive CTE to find a reporting hierarchy. The `staff` table schema is as follows:\n",
        "\n",
        "```sql\n",
        "CREATE TABLE staff (\n",
        "  staff_id TINYINT UNSIGNED NOT NULL AUTO_INCREMENT,\n",
        "  first_name VARCHAR(45) NOT NULL,\n",
        "  last_name VARCHAR(45) NOT NULL,\n",
        "  address_id SMALLINT UNSIGNED NOT NULL,\n",
        "  picture BLOB DEFAULT NULL,\n",
        "  email VARCHAR(50) DEFAULT NULL,\n",
        "  store_id TINYINT UNSIGNED NOT NULL,\n",
        "  active BOOLEAN NOT NULL DEFAULT TRUE,\n",
        "  username VARCHAR(16) NOT NULL,\n",
        "  password VARCHAR(40) BINARY DEFAULT NULL,\n",
        "  last_update TIMESTAMP NOT NULL DEFAULT CURRENT_TIMESTAMP ON UPDATE CURRENT_TIMESTAMP,\n",
        "  PRIMARY KEY  (staff_id),\n",
        "  KEY idx_fk_store_id (store_id),\n",
        "  KEY idx_fk_address_id (address_id),\n",
        "  CONSTRAINT fk_staff_store FOREIGN KEY (store_id) REFERENCES store (store_id) ON DELETE RESTRICT ON UPDATE CASCADE,\n",
        "  CONSTRAINT fk_staff_address FOREIGN KEY (address_id) REFERENCES address (address_id) ON DELETE RESTRICT ON UPDATE CASCADE\n",
        ")ENGINE=InnoDB DEFAULT CHARSET=UTF8MB4;\n",
        "```\n",
        "\n",
        "The `staff` table can be related to itself using the `manager_staff_id` in the `store` table, which references the `staff_id` of a manager. However, the user is asking for a direct `reports_to` column on the `staff` table itself, which doesn't exist in the provided schema.\n",
        "\n",
        "Therefore, I cannot fulfill the request as written. However, I can explain how a recursive CTE would work if the `staff` table had a `reports_to` column, as an educational example. 💡\n",
        "\n",
        "-----\n",
        "\n",
        "### **How a Recursive CTE Would Work (Hypothetical Example)** 👩‍🏫\n",
        "\n",
        "If the `staff` table had a `reports_to` column that contained the `staff_id` of the employee's manager, the query to find all employees reporting up to a specific manager would look something like this:\n",
        "\n",
        "```sql\n",
        "WITH RECURSIVE StaffHierarchy AS (\n",
        "  -- The Anchor Member: Start with the top-level manager\n",
        "  SELECT\n",
        "    staff_id,\n",
        "    first_name,\n",
        "    last_name,\n",
        "    reports_to\n",
        "  FROM\n",
        "    staff\n",
        "  WHERE\n",
        "    staff_id = [manager_id] -- ➡️ Replace with the ID of the manager you want to start with\n",
        "\n",
        "  UNION ALL\n",
        "\n",
        "  -- The Recursive Member: Find all employees who report to the anchor member\n",
        "  SELECT\n",
        "    e.staff_id,\n",
        "    e.first_name,\n",
        "    e.last_name,\n",
        "    e.reports_to\n",
        "  FROM\n",
        "    staff e\n",
        "  JOIN\n",
        "    StaffHierarchy sh ON e.reports_to = sh.staff_id -- 🤝 Join on the reports_to column\n",
        ")\n",
        "-- The Final SELECT Statement\n",
        "SELECT\n",
        "  staff_id,\n",
        "  first_name,\n",
        "  last_name\n",
        "FROM\n",
        "  StaffHierarchy;\n",
        "```\n",
        "\n",
        "### **Explanation of the Recursive CTE** 🧠\n",
        "\n",
        "  * **`WITH RECURSIVE StaffHierarchy AS (...)`**: This declares a recursive CTE named `StaffHierarchy`.\n",
        "  * **The Anchor Member**: The first `SELECT` statement is the non-recursive part. It establishes the starting point for the recursion, which is the manager with the specified `[manager_id]`.\n",
        "  * **The `UNION ALL` Operator**: This combines the results of the anchor member with the results of the recursive member.\n",
        "  * **The Recursive Member**: The second `SELECT` statement is the recursive part. It selects employees (`e`) whose `reports_to` value matches the `staff_id` of the current set of rows in the `StaffHierarchy` CTE (`sh`). This process repeats, adding more levels of the hierarchy with each iteration until no new employees are found.\n",
        "\n",
        "Since the `staff` table in the provided schema does not have a `reports_to` column, this specific query cannot be run. However, this structure is the correct way to model and query hierarchical data using a recursive CTE in SQL."
      ],
      "metadata": {
        "id": "VWqKQDci9MmK"
      }
    }
  ]
}